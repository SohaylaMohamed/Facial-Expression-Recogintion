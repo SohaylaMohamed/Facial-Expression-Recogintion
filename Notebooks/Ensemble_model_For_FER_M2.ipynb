{
  "nbformat": 4,
  "nbformat_minor": 0,
  "metadata": {
    "kernelspec": {
      "display_name": "Python 3",
      "language": "python",
      "name": "python3"
    },
    "language_info": {
      "name": "python",
      "version": "3.6.6",
      "mimetype": "text/x-python",
      "codemirror_mode": {
        "name": "ipython",
        "version": 3
      },
      "pygments_lexer": "ipython3",
      "nbconvert_exporter": "python",
      "file_extension": ".py"
    },
    "colab": {
      "name": "Ensemble_model_For_FER.ipynb",
      "provenance": [],
      "collapsed_sections": []
    },
    "accelerator": "GPU"
  },
  "cells": [
    {
      "cell_type": "code",
      "metadata": {
        "id": "q0g_6kkxEyl_",
        "colab_type": "code",
        "outputId": "2a5b5df3-64ee-45b0-fe91-6e925c1633bd",
        "colab": {
          "base_uri": "https://localhost:8080/",
          "height": 122
        }
      },
      "source": [
        "from google.colab import drive\n",
        "drive.mount('/content/drive')"
      ],
      "execution_count": 0,
      "outputs": [
        {
          "output_type": "stream",
          "text": [
            "Go to this URL in a browser: https://accounts.google.com/o/oauth2/auth?client_id=947318989803-6bn6qk8qdgf4n4g3pfee6491hc0brc4i.apps.googleusercontent.com&redirect_uri=urn%3aietf%3awg%3aoauth%3a2.0%3aoob&response_type=code&scope=email%20https%3a%2f%2fwww.googleapis.com%2fauth%2fdocs.test%20https%3a%2f%2fwww.googleapis.com%2fauth%2fdrive%20https%3a%2f%2fwww.googleapis.com%2fauth%2fdrive.photos.readonly%20https%3a%2f%2fwww.googleapis.com%2fauth%2fpeopleapi.readonly\n",
            "\n",
            "Enter your authorization code:\n",
            "··········\n",
            "Mounted at /content/drive\n"
          ],
          "name": "stdout"
        }
      ]
    },
    {
      "cell_type": "code",
      "metadata": {
        "id": "PoNhRStTEr7F",
        "colab_type": "code",
        "outputId": "76ae2d4e-797f-4236-cbb3-c0d84a113e5f",
        "colab": {
          "base_uri": "https://localhost:8080/",
          "height": 34
        }
      },
      "source": [
        "cd drive/My Drive/Deeplearning/Project"
      ],
      "execution_count": 0,
      "outputs": [
        {
          "output_type": "stream",
          "text": [
            "/content/drive/My Drive/Deeplearning/Project\n"
          ],
          "name": "stdout"
        }
      ]
    },
    {
      "cell_type": "code",
      "metadata": {
        "id": "jcYbkG2-uycR",
        "colab_type": "code",
        "colab": {}
      },
      "source": [
        "import errno\n",
        "import os\n",
        "from datetime import datetime\n",
        "\n",
        "mydir = os.path.join('saved_model', \n",
        "        datetime.now().strftime('%Y-%m-%d_%H-%M-%S'))\n",
        "try:\n",
        "        os.makedirs(mydir)\n",
        "except OSError as e:\n",
        "        if e.errno != errno.EEXIST:\n",
        "            raise  # This was not a \"directory exist\" error.."
      ],
      "execution_count": 0,
      "outputs": []
    },
    {
      "cell_type": "code",
      "metadata": {
        "id": "m6TCTIY3C_Gh",
        "colab_type": "code",
        "outputId": "d4b326f0-c213-4d93-f7cc-d67c0b61b564",
        "colab": {
          "base_uri": "https://localhost:8080/",
          "height": 88
        }
      },
      "source": [
        "import cv2\n",
        "import math\n",
        "import joblib\n",
        "import numpy as np\n",
        "import pandas as pd\n",
        "\n",
        "\n",
        "import seaborn as sns\n",
        "from matplotlib import pyplot\n",
        "\n",
        "from sklearn.model_selection import train_test_split\n",
        "from sklearn.preprocessing import LabelEncoder\n",
        "from sklearn.metrics import classification_report\n",
        "\n",
        "import tensorflow as tf\n",
        "from tensorflow.keras import optimizers\n",
        "from tensorflow.keras.models import Model\n",
        "from tensorflow.keras.layers import Input, Flatten, Dense, Conv2D, MaxPooling2D, Concatenate\n",
        "from tensorflow.keras.layers import Dropout, BatchNormalization\n",
        "from tensorflow.keras.callbacks import Callback, EarlyStopping, ReduceLROnPlateau\n",
        "from tensorflow.keras.preprocessing.image import ImageDataGenerator\n",
        "from tensorflow.keras.utils import plot_model\n",
        "\n",
        "from keras.utils import np_utils"
      ],
      "execution_count": 0,
      "outputs": [
        {
          "output_type": "stream",
          "text": [
            "/usr/local/lib/python3.6/dist-packages/statsmodels/tools/_testing.py:19: FutureWarning: pandas.util.testing is deprecated. Use the functions in the public API at pandas.testing instead.\n",
            "  import pandas.util.testing as tm\n",
            "Using TensorFlow backend.\n"
          ],
          "name": "stderr"
        }
      ]
    },
    {
      "cell_type": "code",
      "metadata": {
        "id": "qOTxj2tTFl-J",
        "colab_type": "code",
        "colab": {}
      },
      "source": [
        "import tensorflow as tf\n",
        "from tensorflow.keras.layers import Conv2D,AveragePooling2D, MaxPooling2D, ZeroPadding2D , Activation, BatchNormalization,concatenate ,Flatten,Dropout,Dense\n",
        "from tensorflow.keras import Input, Model, Sequential\n",
        "from tensorflow.keras.optimizers import Adam,Adadelta, SGD\n",
        "from tensorflow.keras import regularizers\n",
        "from tensorflow.keras.utils import plot_model\n",
        "from tensorflow.keras import applications"
      ],
      "execution_count": 0,
      "outputs": []
    },
    {
      "cell_type": "code",
      "metadata": {
        "id": "PzJEa4UBBJKi",
        "colab_type": "code",
        "colab": {}
      },
      "source": [
        "import sys, os\n",
        "import pandas as pd\n",
        "import numpy as np\n",
        "import cv2\n",
        "from sklearn.model_selection import train_test_split\n",
        "from tensorflow.keras.models import Sequential\n",
        "from tensorflow.keras.layers import Dense, Dropout, Activation, Flatten\n",
        "from tensorflow.keras.layers import Conv2D, MaxPooling2D, BatchNormalization\n",
        "from tensorflow.keras.losses import categorical_crossentropy\n",
        "from tensorflow.keras.optimizers import Adam\n",
        "from tensorflow.keras.regularizers import l2\n",
        "from tensorflow.keras.callbacks import ReduceLROnPlateau, TensorBoard, EarlyStopping, ModelCheckpoint\n",
        "from tensorflow.keras.models import load_model"
      ],
      "execution_count": 0,
      "outputs": []
    },
    {
      "cell_type": "markdown",
      "metadata": {
        "id": "_imzQ4_12yIq",
        "colab_type": "text"
      },
      "source": [
        "Loading Dataset and Preprocessing : "
      ]
    },
    {
      "cell_type": "code",
      "metadata": {
        "_cell_guid": "79c7e3d0-c299-4dcb-8224-4455121ee9b0",
        "_uuid": "d629ff2d2480ee46fbb7e2d37f6b5fab8052498a",
        "trusted": true,
        "id": "iduR82U9o_-p",
        "colab_type": "code",
        "colab": {}
      },
      "source": [
        "from __future__ import print_function\n",
        "import keras\n",
        "from keras.utils import np_utils\n",
        "import matplotlib.pyplot as plt\n",
        "from keras.regularizers import l2  #, activity_l2\n",
        "import numpy\n",
        "import csv\n",
        "import scipy.misc\n",
        "import scipy.stats\n",
        "from scipy import ndimage\n",
        "import imutils\n",
        "import cv2\n",
        "import numpy as np\n",
        "from keras.preprocessing.image import ImageDataGenerator\n",
        "\n",
        "def flatten_matrix(matrix):\n",
        "    vector = matrix.flatten('F')\n",
        "    vector = vector.reshape(1, len(vector))\n",
        "    return vector\n",
        "\n",
        "def zca_whitening(inputs):\n",
        "    sigma = np.dot(inputs, inputs.T)/inputs.shape[1] #Correlation matrix\n",
        "    U,S,V = np.linalg.svd(sigma) #Singular Value Decomposition\n",
        "    epsilon = 0.1                #Whitening constant, it prevents division by zero\n",
        "    ZCAMatrix = np.dot(np.dot(U, np.diag(1.0/np.sqrt(np.diag(S) + epsilon))), U.T)                     #ZCA Whitening matrix\n",
        "    return np.dot(ZCAMatrix, inputs)   #Data whitening\n",
        "    \n",
        "def global_contrast_normalize(X, scale=1., subtract_mean=True, use_std=True,\n",
        "                              sqrt_bias=10, min_divisor=1e-8):\n",
        "\n",
        "    \"\"\"\n",
        "    __author__ = \"David Warde-Farley\"\n",
        "    __copyright__ = \"Copyright 2012, Universite de Montreal\"\n",
        "    __credits__ = [\"David Warde-Farley\"]\n",
        "    __license__ = \"3-clause BSD\"\n",
        "    __email__ = \"wardefar@iro\"\n",
        "    __maintainer__ = \"David Warde-Farley\"\n",
        "    .. [1] A. Coates, H. Lee and A. Ng. \"An Analysis of Single-Layer\n",
        "       Networks in Unsupervised Feature Learning\". AISTATS 14, 2011.\n",
        "       http://www.stanford.edu/~acoates/papers/coatesleeng_aistats_2011.pdf\n",
        "    \"\"\"\n",
        "    assert X.ndim == 2, \"X.ndim must be 2\"\n",
        "    scale = float(scale)\n",
        "    assert scale >= min_divisor\n",
        "\n",
        "    mean = X.mean(axis=1)\n",
        "    if subtract_mean:\n",
        "        X = X - mean[:, numpy.newaxis]  \n",
        "    else:\n",
        "        X = X.copy()\n",
        "    if use_std:\n",
        "        ddof = 1\n",
        "        if X.shape[1] == 1:\n",
        "            ddof = 0\n",
        "        normalizers = numpy.sqrt(sqrt_bias + X.var(axis=1, ddof=ddof)) / scale\n",
        "    else:\n",
        "        normalizers = numpy.sqrt(sqrt_bias + (X ** 2).sum(axis=1)) / scale\n",
        "    normalizers[normalizers < min_divisor] = 1.\n",
        "    X /= normalizers[:, numpy.newaxis]  # Does not make a copy.\n",
        "    return X\n",
        "def ZeroCenter(data):\n",
        "    data = data - numpy.mean(data,axis=0)\n",
        "    return data\n",
        "\n",
        "def normalize(arr):\n",
        "    for i in range(3):\n",
        "        minval = arr[...,i].min()\n",
        "        maxval = arr[...,i].max()\n",
        "        if minval != maxval:\n",
        "            arr[...,i] -= minval\n",
        "            arr[...,i] *= (255.0/(maxval-minval))\n",
        "    return arr\n",
        "\n",
        "def Flip(data):\n",
        "    dataFlipped = data[..., ::-1].reshape(2304).tolist()\n",
        "    return dataFlipped\n",
        "\n",
        "def Roated15Left(data):\n",
        "    num_rows, num_cols = data.shape[:2]\n",
        "    rotation_matrix = cv2.getRotationMatrix2D((num_cols/2, num_rows/2), 30, 1)\n",
        "    img_rotation = cv2.warpAffine(data, rotation_matrix, (num_cols, num_rows))\n",
        "    return img_rotation.reshape(2304).tolist()\n",
        "\n",
        "def Roated15Right(data):\n",
        "    num_rows, num_cols = data.shape[:2]\n",
        "    rotation_matrix = cv2.getRotationMatrix2D((num_cols/2, num_rows/2), -30, 1)\n",
        "    img_rotation = cv2.warpAffine(data, rotation_matrix, (num_cols, num_rows))\n",
        "    return img_rotation.reshape(2304).tolist()\n",
        "\n",
        "def Zoomed(data):\n",
        "    datazoomed = scipy.misc.imresize(data,(60,60))\n",
        "    datazoomed = datazoomed[5:53,5:53]\n",
        "    datazoomed = datazoomed.reshape(2304).tolist()\n",
        "    return datazoomed\n",
        "\n",
        "def shiftedUp20(data):\n",
        "    translated = imutils.translate(data, 0, -5)\n",
        "    translated2 = translated.reshape(2304).tolist()\n",
        "    return translated2\n",
        "def shiftedDown20(data):\n",
        "    translated = imutils.translate(data, 0, 5)\n",
        "    translated2 = translated.reshape(2304).tolist()\n",
        "    return translated2\n",
        "\n",
        "def shiftedLeft20(data):\n",
        "    translated = imutils.translate(data, -5, 0)\n",
        "    translated2 = translated.reshape(2304).tolist()\n",
        "    return translated2\n",
        "def shiftedRight20(data):\n",
        "    translated = imutils.translate(data, 5, 0)\n",
        "    translated2 = translated.reshape(2304).tolist()\n",
        "    return translated2\n",
        "\n",
        "def outputImage(pixels,number):\n",
        "    data = pixels\n",
        "    name = str(number)+\"output.jpg\" \n",
        "    scipy.misc.imsave(name, data)\n",
        "\n",
        "def Zerocenter_ZCA_whitening_Global_Contrast_Normalize(list):\n",
        "    Intonumpyarray = numpy.asarray(list)\n",
        "    data = Intonumpyarray.reshape(48,48)\n",
        "    data2 = ZeroCenter(data)\n",
        "    #data3 = zca_whitening(flatten_matrix(data2)).reshape(48,48)\n",
        "    #data4 = global_contrast_normalize(data3)\n",
        "    #data5 = numpy.rot90(data4,3)\n",
        "    return data2\n",
        "\n",
        "def load_test_data():\n",
        "    f = open('FER2013/fer2013.csv')\n",
        "    csv_f = csv.reader(f)\n",
        "    test_set_x =[]\n",
        "    test_set_y =[]\n",
        "    for row in csv_f:  \n",
        "        if str(row[2]) == \"PrivateTest\" :\n",
        "            test_set_y.append(int(row[0]))\n",
        "            temp_list = []\n",
        "            for pixel in row[1].split( ):\n",
        "                temp_list.append(int(pixel))\n",
        "            data = Zerocenter_ZCA_whitening_Global_Contrast_Normalize(temp_list)\n",
        "            test_set_x.append(data)\n",
        "    return test_set_x, test_set_y\n",
        "\n",
        "def load_data():\n",
        "\n",
        "    train_x = []\n",
        "    train_y = []\n",
        "    val_x =[]\n",
        "    val_y =[]\n",
        "\n",
        "   \n",
        "    number = 0\n",
        "\n",
        "    f = open('FER2013/fer2013.csv')\n",
        "    csv_f = csv.reader(f)\n",
        "\n",
        "    for row in csv_f:   \n",
        "            if str(row[2]) == \"Training\"  :\n",
        "                temp_list = []\n",
        "\n",
        "                for pixel in row[1].split( ):\n",
        "                    temp_list.append(int(pixel))\n",
        "\n",
        "                data = Zerocenter_ZCA_whitening_Global_Contrast_Normalize(temp_list)\n",
        "                train_y.append(int(row[0]))\n",
        "                train_x.append(data.reshape(2304).tolist())\n",
        "\n",
        "            elif str(row[2]) == \"PublicTest\":\n",
        "                temp_list = []\n",
        "\n",
        "                for pixel in row[1].split( ):\n",
        "                    temp_list.append(int(pixel))\n",
        "\n",
        "                data = Zerocenter_ZCA_whitening_Global_Contrast_Normalize(temp_list)\n",
        "                val_y.append(int(row[0]))\n",
        "                val_x.append(data.reshape(2304).tolist())\n",
        "\n",
        "    return train_x, train_y, val_x, val_y\n",
        "\n",
        "def load_data_2():\n",
        "\n",
        "    train_x = []\n",
        "    train_y = []\n",
        "\n",
        "   \n",
        "    number = 0\n",
        "    f = open('FER2013/fer2013.csv')\n",
        "    csv_f = csv.reader(f)\n",
        "\n",
        "    for row in csv_f:   \n",
        "            if str(row[2]) == \"Training\"  :\n",
        "                temp_list = []\n",
        "\n",
        "                for pixel in row[1].split( ):\n",
        "                    temp_list.append(int(pixel))\n",
        "\n",
        "                data = Zerocenter_ZCA_whitening_Global_Contrast_Normalize(temp_list)\n",
        "                train_y.append(int(row[0]))\n",
        "                train_x.append(data.reshape(2304).tolist())\n",
        "\n",
        "            elif str(row[2]) == \"PublicTest\":\n",
        "                temp_list = []\n",
        "\n",
        "                for pixel in row[1].split( ):\n",
        "                    temp_list.append(int(pixel))\n",
        "\n",
        "                data = Zerocenter_ZCA_whitening_Global_Contrast_Normalize(temp_list)\n",
        "                train_y.append(int(row[0]))\n",
        "                train_x.append(data.reshape(2304).tolist())\n",
        "\n",
        "    return train_x, train_y\n",
        "\n",
        "def plot(training_results, validation_results, results_type, model_name=\"dexpression\"):\n",
        "    fig = plt.figure(figsize=[8, 6])\n",
        "\n",
        "    plt.plot(training_results, 'r', linewidth=3.0)\n",
        "    plt.plot(validation_results, 'b', linewidth=3.0)\n",
        "    plt.legend(['Training ' + results_type, 'Validation ' + results_type], fontsize=18)\n",
        "    plt.xlabel('Epochs', fontsize=16)\n",
        "    plt.ylabel(results_type, fontsize=16)\n",
        "    plt.title(results_type + ' of ' + model_name, fontsize=16)"
      ],
      "execution_count": 0,
      "outputs": []
    },
    {
      "cell_type": "code",
      "metadata": {
        "id": "IGfdAw9m1v33",
        "colab_type": "code",
        "outputId": "ffb6f6bc-ed32-4870-f49b-45aa35c45b0d",
        "colab": {
          "base_uri": "https://localhost:8080/",
          "height": 282
        }
      },
      "source": [
        "img_x, labels = load_data_2()"
      ],
      "execution_count": 0,
      "outputs": [
        {
          "output_type": "error",
          "ename": "KeyboardInterrupt",
          "evalue": "ignored",
          "traceback": [
            "\u001b[0;31m---------------------------------------------------------------------------\u001b[0m",
            "\u001b[0;31mKeyboardInterrupt\u001b[0m                         Traceback (most recent call last)",
            "\u001b[0;32m<ipython-input-8-7c82bbd2a0f4>\u001b[0m in \u001b[0;36m<module>\u001b[0;34m()\u001b[0m\n\u001b[0;32m----> 1\u001b[0;31m \u001b[0mimg_x\u001b[0m\u001b[0;34m,\u001b[0m \u001b[0mlabels\u001b[0m \u001b[0;34m=\u001b[0m \u001b[0mload_data_2\u001b[0m\u001b[0;34m(\u001b[0m\u001b[0;34m)\u001b[0m\u001b[0;34m\u001b[0m\u001b[0;34m\u001b[0m\u001b[0m\n\u001b[0m",
            "\u001b[0;32m<ipython-input-7-4cf24ed18e0c>\u001b[0m in \u001b[0;36mload_data_2\u001b[0;34m()\u001b[0m\n\u001b[1;32m    191\u001b[0m                 \u001b[0mtemp_list\u001b[0m \u001b[0;34m=\u001b[0m \u001b[0;34m[\u001b[0m\u001b[0;34m]\u001b[0m\u001b[0;34m\u001b[0m\u001b[0;34m\u001b[0m\u001b[0m\n\u001b[1;32m    192\u001b[0m \u001b[0;34m\u001b[0m\u001b[0m\n\u001b[0;32m--> 193\u001b[0;31m                 \u001b[0;32mfor\u001b[0m \u001b[0mpixel\u001b[0m \u001b[0;32min\u001b[0m \u001b[0mrow\u001b[0m\u001b[0;34m[\u001b[0m\u001b[0;36m1\u001b[0m\u001b[0;34m]\u001b[0m\u001b[0;34m.\u001b[0m\u001b[0msplit\u001b[0m\u001b[0;34m(\u001b[0m \u001b[0;34m)\u001b[0m\u001b[0;34m:\u001b[0m\u001b[0;34m\u001b[0m\u001b[0;34m\u001b[0m\u001b[0m\n\u001b[0m\u001b[1;32m    194\u001b[0m                     \u001b[0mtemp_list\u001b[0m\u001b[0;34m.\u001b[0m\u001b[0mappend\u001b[0m\u001b[0;34m(\u001b[0m\u001b[0mint\u001b[0m\u001b[0;34m(\u001b[0m\u001b[0mpixel\u001b[0m\u001b[0;34m)\u001b[0m\u001b[0;34m)\u001b[0m\u001b[0;34m\u001b[0m\u001b[0;34m\u001b[0m\u001b[0m\n\u001b[1;32m    195\u001b[0m \u001b[0;34m\u001b[0m\u001b[0m\n",
            "\u001b[0;31mKeyboardInterrupt\u001b[0m: "
          ]
        }
      ]
    },
    {
      "cell_type": "code",
      "metadata": {
        "id": "qKKmZGtSBTm7",
        "colab_type": "code",
        "colab": {}
      },
      "source": [
        "test_set_x, test_set_y = load_test_data()"
      ],
      "execution_count": 0,
      "outputs": []
    },
    {
      "cell_type": "code",
      "metadata": {
        "id": "I42af7PdBVX5",
        "colab_type": "code",
        "colab": {}
      },
      "source": [
        "img_rows, img_cols = 48, 48\n",
        "nb_classes = 7\n",
        "img_channels = 1\n",
        "img_x = numpy.asarray(img_x) \n",
        "img_x = img_x.reshape(img_x.shape[0],img_rows,img_cols)\n",
        "img_x = img_x.reshape(img_x.shape[0], img_rows, img_cols,1)\n",
        "img_x = img_x.astype('float32')\n",
        "\n",
        "\n",
        "labels = np_utils.to_categorical(labels, nb_classes)\n",
        "\n",
        "test_set_x = numpy.asarray(test_set_x) \n",
        "test_set_x = test_set_x.reshape(test_set_x.shape[0],img_rows,img_cols)\n",
        "test_set_x = test_set_x.reshape(test_set_x.shape[0], img_rows, img_cols,1)\n",
        "test_set_x = test_set_x.astype('float32')\n",
        "\n",
        "test_set_y = np_utils.to_categorical(test_set_y, nb_classes)"
      ],
      "execution_count": 0,
      "outputs": []
    },
    {
      "cell_type": "code",
      "metadata": {
        "_uuid": "030b1ebf761aa450ce18b253813433ca5293c2fc",
        "trusted": true,
        "id": "VuCGPS98o_-1",
        "colab_type": "code",
        "colab": {}
      },
      "source": [
        "train_x, train_y, val_x, val_y = load_data()\n",
        "test_set_x, test_set_y = load_test_data()"
      ],
      "execution_count": 0,
      "outputs": []
    },
    {
      "cell_type": "code",
      "metadata": {
        "_uuid": "dc20a3a5e6d491e98be7d0ff3aaa6eec7bdc123b",
        "trusted": true,
        "id": "GzAZ6ndxo_-9",
        "colab_type": "code",
        "colab": {}
      },
      "source": [
        "img_rows, img_cols = 48, 48\n",
        "nb_classes = 7\n",
        "img_channels = 1\n",
        "train_x = numpy.asarray(train_x) \n",
        "train_x = train_x.reshape(train_x.shape[0],img_rows,img_cols)\n",
        "\n",
        "val_x = numpy.asarray(val_x)\n",
        "val_x = val_x.reshape(val_x.shape[0],img_rows,img_cols)\n",
        "\n",
        "train_x = train_x.reshape(train_x.shape[0], img_rows, img_cols,1)\n",
        "val_x = val_x.reshape(val_x.shape[0], img_rows, img_cols,1)\n",
        "\n",
        "train_x = train_x.astype('float32')\n",
        "val_x = val_x.astype('float32')\n",
        "\n",
        "\n",
        "train_y = np_utils.to_categorical(train_y, nb_classes)\n",
        "val_y = np_utils.to_categorical(val_y, nb_classes)\n",
        "\n",
        "test_set_x = numpy.asarray(test_set_x) \n",
        "test_set_x = test_set_x.reshape(test_set_x.shape[0],img_rows,img_cols)\n",
        "test_set_x = test_set_x.reshape(test_set_x.shape[0], img_rows, img_cols,1)\n",
        "test_set_x = test_set_x.astype('float32')\n",
        "\n",
        "test_set_y = np_utils.to_categorical(test_set_y, nb_classes)"
      ],
      "execution_count": 0,
      "outputs": []
    },
    {
      "cell_type": "code",
      "metadata": {
        "id": "kPlqBOQWyR16",
        "colab_type": "code",
        "colab": {}
      },
      "source": [
        "newX_tr=[]\n",
        "newY_tr=[]\n",
        "img_labels = train_y\n",
        "img_array = train_x\n",
        "import imgaug.augmenters as iaa\n",
        "import random\n",
        "emotion_label_to_text = {0:'anger', 1:'disgust', 2:'fear', 3:'happiness', 4: 'sadness', 5: 'surprise', 6: 'neutral'}\n",
        "for i in range(len(img_array)):\n",
        "  if (emotion_label_to_text[np.argmax(img_labels[i])]=='surprise'):\n",
        "    p= random.uniform(0, 1)\n",
        "    if(p>0.5):\n",
        "      gaussian_noise=iaa.AdditiveGaussianNoise(10,20)\n",
        "      noise_image=gaussian_noise.augment_image(img_array[i])\n",
        "      newX_tr.append(noise_image)\n",
        "      newY_tr.append(img_labels[i])\n",
        "  if (emotion_label_to_text[np.argmax(img_labels[i])]=='fear'):\n",
        "    p= random.uniform(0, 1)\n",
        "    if(p<0.2):\n",
        "      gaussian_noise=iaa.AdditiveGaussianNoise(10,20)\n",
        "      noise_image=gaussian_noise.augment_image(img_array[i])\n",
        "      newX_tr.append(noise_image)\n",
        "      newY_tr.append(img_labels[i])\n",
        "  if (emotion_label_to_text[np.argmax(img_labels[i])]=='anger'):\n",
        "    p= random.uniform(0, 1)\n",
        "    if(p<0.2):\n",
        "      gaussian_noise=iaa.AdditiveGaussianNoise(10,20)\n",
        "      noise_image=gaussian_noise.augment_image(img_array[i])\n",
        "      newX_tr.append(noise_image)\n",
        "      newY_tr.append(img_labels[i])\n",
        "  if (emotion_label_to_text[np.argmax(img_labels[i])]=='disgust'):\n",
        "    flip_hr=iaa.Fliplr(p=1.0)\n",
        "    flip_hr_image= flip_hr.augment_image(img_array[i])\n",
        "    newX_tr.append(flip_hr_image)\n",
        "    newY_tr.append(img_labels[i])\n",
        "\n",
        "    con=iaa.LinearContrast((0.5, 2.0), per_channel=0.5)\n",
        "    con_image = con.augment_image(img_array[i])\n",
        "    newX_tr.append(con_image)\n",
        "    newY_tr.append(img_labels[i])\n",
        "\n",
        "    sh = iaa.Sharpen(alpha=.2, lightness=(0.75, 1.5))\n",
        "    sh_image = sh.augment_image(img_array[i])\n",
        "    newX_tr.append(sh_image)\n",
        "    newY_tr.append(img_labels[i])\n",
        "\n",
        "    croped = iaa.Crop(percent=(0, 0.02))\n",
        "    croped_image = croped.augment_image(img_array[i])\n",
        "    newX_tr.append(croped_image)\n",
        "    newY_tr.append(img_labels[i])\n",
        "\n",
        "    gaussian_noise=iaa.AdditiveGaussianNoise(10,20)\n",
        "    noise_image=gaussian_noise.augment_image(img_array[i])\n",
        "    newX_tr.append(noise_image)\n",
        "    newY_tr.append(img_labels[i])\n",
        "  newX_tr.append(img_array[i])\n",
        "  newY_tr.append(img_labels[i])\n",
        "\n",
        "newX_tr = np.array(newX_tr)\n",
        "newY_tr = np.array(newY_tr)"
      ],
      "execution_count": 0,
      "outputs": []
    },
    {
      "cell_type": "markdown",
      "metadata": {
        "id": "iIQnCfTd27U7",
        "colab_type": "text"
      },
      "source": [
        "Models Definining :"
      ]
    },
    {
      "cell_type": "code",
      "metadata": {
        "id": "joNmtbmWrHx8",
        "colab_type": "code",
        "colab": {}
      },
      "source": [
        "#######################################NOT USED################################################################\n",
        "def model_orig_temp(input_shape=(48,48,1), num_classes=7):\n",
        "  padding='VALID'\n",
        "  dropout_rate=0.6\n",
        "  LR=0.001\n",
        "  batch_size=200\n",
        "  num_epoch=200\n",
        "  inp = Input(shape=input_shape)\n",
        "  X = ZeroPadding2D(padding=(3, 3))(inp)\n",
        "  X = Conv2D(filters = 64, kernel_size = (7, 7), strides = (1,1), padding = \"same\", activation = 'relu')(inp)\n",
        "  X = MaxPooling2D(pool_size=(3, 3),strides=(2,2),padding=padding)(X)\n",
        "  X = BatchNormalization()(X)\n",
        "\n",
        "\n",
        "  X_1 = Conv2D(filters = 96, kernel_size = (1,1), strides = (1,1), padding = \"same\", activation = 'relu')(X)\n",
        "  X_1 = ZeroPadding2D(padding=(1, 1))(X_1)\n",
        "  X_1 = Conv2D(filters = 208,kernel_regularizer=regularizers.l2(0.01), kernel_size = (3,3), strides = (1,1), padding = \"valid\", activation = 'relu')(X_1)\n",
        "  X_1 = Dropout(0.5)(X_1)\n",
        "\n",
        "  X_2 = MaxPooling2D(pool_size=(3, 3),strides=(1,1),padding=\"same\")(X)\n",
        "  X_2 = Conv2D(filters = 64, kernel_size = (1,1), strides = (1,1), padding = \"same\", activation = 'relu')(X_2)\n",
        "  X_2 = Dropout(0.3)(X_2)\n",
        "\n",
        "  merged = concatenate([X_1, X_2], axis=3)\n",
        "  merged = MaxPooling2D(pool_size=(3, 3),strides=1,padding=padding)(merged)\n",
        "\n",
        "  merged_1 = Conv2D(filters = 96, kernel_size = (1,1), strides = (1,1), padding = \"same\", activation = 'relu')(merged)\n",
        "  merged_1 = ZeroPadding2D(padding=(1, 1))(merged_1)\n",
        "  merged_1 = Conv2D(filters = 208,kernel_regularizer=regularizers.l2(0.01), kernel_size = (3,3), strides = (1,1), padding = \"valid\", activation = 'relu')(merged_1)\n",
        "  merged_1 = Dropout(0.3)(merged_1)\n",
        "\n",
        "  merged_2 = MaxPooling2D(pool_size=(3, 3),strides=1,padding=\"same\")(merged)\n",
        "  merged_2 = Conv2D(filters = 64, kernel_size = (1,1), strides = (1,1), kernel_regularizer=regularizers.l2(0.01), padding = \"valid\", activation = 'relu')(merged_2)\n",
        "  out = concatenate([merged_1, merged_2], axis=3)\n",
        "  out = MaxPooling2D(pool_size=(3, 3),strides=1,padding=padding)(out)\n",
        "\n",
        "  merged_3 = Conv2D(filters = 96, kernel_size = (1,1), strides = (1,1), padding = \"valid\", activation = 'relu')(out)\n",
        "  merged_3 = ZeroPadding2D(padding=(1, 1))(merged_3)\n",
        "  merged_3 = Conv2D(filters = 208,kernel_regularizer=regularizers.l2(0.01), kernel_size = (3,3), strides = (1,1), padding = \"valid\", activation = 'relu')(merged_3)\n",
        "  merged_3 = Dropout(0.4)(merged_3)\n",
        "\n",
        "  merged_4 = MaxPooling2D(pool_size=(3, 3),strides=1,padding=\"same\")(merged_3)\n",
        "  merged_4 = Conv2D(filters = 64, kernel_size = (1,1), strides = (1,1), kernel_regularizer=regularizers.l2(0.01), padding = \"valid\", activation = 'relu')(merged_4)\n",
        "  out_2 = concatenate([merged_3, merged_4], axis=3)\n",
        "  out_2 = MaxPooling2D(pool_size=(3, 3),strides=1,padding=padding)(out_2)\n",
        "\n",
        "  out_2 = Flatten()(out_2)\n",
        "  out_2 = Dropout(0.3)(out_2)\n",
        "  out_2 = Dense(num_classes, activation=\"softmax\", kernel_regularizer=regularizers.l2(0.01))(out_2)\n",
        "  model = Model(inputs = inp, outputs = out_2)\n",
        "\n",
        "  ad = Adam(lr=LR)\n",
        "  model.compile(optimizer=ad, loss='categorical_crossentropy', metrics=['accuracy'])\n",
        "\n",
        "  return model"
      ],
      "execution_count": 0,
      "outputs": []
    },
    {
      "cell_type": "markdown",
      "metadata": {
        "id": "_uQJLMcc3EaU",
        "colab_type": "text"
      },
      "source": [
        "Dexpression Model original :\n"
      ]
    },
    {
      "cell_type": "code",
      "metadata": {
        "id": "fO5578me5twh",
        "colab_type": "code",
        "colab": {}
      },
      "source": [
        "def model_orig(input_shape=(48,48,1), num_classes=7):\n",
        "    padding = 'same'\n",
        "    inp = Input(shape=input_shape)\n",
        "    # START MODEL\n",
        "    conv_1 = Conv2D(64, (7, 7), strides=(2, 2), padding=padding, activation='relu', name='conv_1')(inp)\n",
        "    maxpool_1 = MaxPooling2D((3, 3), strides=(2,2))(conv_1)\n",
        "    maxpool_1 = Dropout(0.3)(maxpool_1)\n",
        "    x = BatchNormalization()(maxpool_1)\n",
        "    \n",
        "    # FEAT-EX1\n",
        "    conv_2a = Conv2D(96, (1, 1), strides=(1,1), activation='relu', padding=padding, name='conv_2a')(x)\n",
        "    conv_2b = Conv2D(208, (3, 3), strides=(1,1), activation='relu', padding=padding, name='conv_2b')(conv_2a)\n",
        "    maxpool_2a = MaxPooling2D((3,3), strides=(1,1), padding=padding, name='maxpool_2a')(x)\n",
        "    maxpool_2a = Dropout(0.3)(maxpool_2a)\n",
        "    conv_2c = Conv2D(64, (1, 1), strides=(1,1), name='conv_2c')(maxpool_2a)\n",
        "    concat_1 = concatenate([conv_2b,conv_2c],axis=3,name='concat_2')\n",
        "    maxpool_2b = MaxPooling2D((3,3), strides=(1,1), padding=padding, name='maxpool_2b')(concat_1)\n",
        "    maxpool_2b = Dropout(0.3)(maxpool_2b)\n",
        "    \n",
        "    # FEAT-EX2\n",
        "    conv_3a = Conv2D(96, (1, 1), strides=(1,1), activation='relu', padding=padding, name='conv_3a')(maxpool_2b)\n",
        "    conv_3b = Conv2D(208, (3, 3), strides=(1,1), activation='relu', padding=padding, name='conv_3b')(conv_3a)\n",
        "    maxpool_3a = MaxPooling2D((3,3), strides=(1,1), padding=padding, name='maxpool_3a')(maxpool_2b)\n",
        "    maxpool_3a = Dropout(0.3)(maxpool_3a)\n",
        "    conv_3c = Conv2D(64, (1, 1), strides=(1,1), name='conv_3c')(maxpool_2a)\n",
        "    concat_3 = concatenate([conv_3b,conv_3c],axis=3,name='concat_3')\n",
        "    maxpool_3b = MaxPooling2D((3,3), strides=(1,1), padding=padding, name='maxpool_3b')(concat_3)\n",
        "    maxpool_3b = Dropout(0.3)(maxpool_3b)\n",
        "\n",
        "    # FINAL LAYERS\n",
        "    net = Flatten()(maxpool_3b)\n",
        "    net = Dense(num_classes, activation='softmax', name='predictions')(net)\n",
        "    model = Model(inputs = inp, outputs = net)\n",
        "    model.compile(optimizer=Adam(), loss='categorical_crossentropy', metrics=['accuracy'])\n",
        "\n",
        "    return model"
      ],
      "execution_count": 0,
      "outputs": []
    },
    {
      "cell_type": "markdown",
      "metadata": {
        "id": "jNhUfF7T3MJs",
        "colab_type": "text"
      },
      "source": [
        "Dexpression Model with only one feature extraction blocks :"
      ]
    },
    {
      "cell_type": "code",
      "metadata": {
        "id": "p-zRCbYfDRG1",
        "colab_type": "code",
        "colab": {}
      },
      "source": [
        "def model_origsimp(input_shape=(48,48,1), num_classes=7):\n",
        "    padding = 'same'\n",
        "    inp = Input(shape=input_shape)\n",
        "    # START MODEL\n",
        "    conv_1 = Conv2D(64, (7, 7), strides=(2, 2), padding=padding, activation='relu', name='conv_1')(inp)\n",
        "    maxpool_1 = MaxPooling2D((3, 3), strides=(2,2))(conv_1)\n",
        "    maxpool_1 = Dropout(0.3)(maxpool_1)\n",
        "    x = BatchNormalization()(maxpool_1)\n",
        "    \n",
        "    # FEAT-EX1\n",
        "    conv_2a = Conv2D(96, (1, 1), strides=(1,1), activation='relu', padding=padding, name='conv_2a')(x)\n",
        "    conv_2b = Conv2D(208, (3, 3), strides=(1,1), activation='relu', padding=padding, name='conv_2b')(conv_2a)\n",
        "    maxpool_2a = MaxPooling2D((3,3), strides=(1,1), padding=padding, name='maxpool_2a')(x)\n",
        "    maxpool_2a = Dropout(0.3)(maxpool_2a)\n",
        "    conv_2c = Conv2D(64, (1, 1), strides=(1,1), name='conv_2c')(maxpool_2a)\n",
        "    concat_1 = concatenate([conv_2b,conv_2c],axis=3,name='concat_2')\n",
        "    maxpool_2b = MaxPooling2D((3,3), strides=(1,1), padding=padding, name='maxpool_2b')(concat_1)\n",
        "    maxpool_2b = Dropout(0.3)(maxpool_2b)\n",
        "    \n",
        "\n",
        "    # FINAL LAYERS\n",
        "    net = Flatten()(maxpool_2b)\n",
        "    net = Dense(num_classes, activation='softmax', name='predictions')(net)\n",
        "    model = Model(inputs = inp, outputs = net)\n",
        "    model.compile(optimizer=Adam(), loss='categorical_crossentropy', metrics=['accuracy'])\n",
        "\n",
        "    return model"
      ],
      "execution_count": 0,
      "outputs": []
    },
    {
      "cell_type": "markdown",
      "metadata": {
        "id": "Gqy7Vm0y3WG7",
        "colab_type": "text"
      },
      "source": [
        "CNN model #1 :\n"
      ]
    },
    {
      "cell_type": "code",
      "metadata": {
        "_uuid": "1e271e0d37535c7c401a873578ad3dd19b51b133",
        "trusted": true,
        "id": "Uni6e9eSpAAA",
        "colab_type": "code",
        "colab": {}
      },
      "source": [
        "def model_cnn(input_shape=(48,48,1), num_classes=7):   \n",
        "    model = Sequential()\n",
        "\n",
        "    # Add convolutional layer consisting of 32 filters and shape of 3x3 with ReLU activation\n",
        "    # We want to preserve more information for following layers so we use padding\n",
        "    # 'Same' padding tries to pad evenly left and right, \n",
        "    # but if the amount of columns to be added is odd, it will add the extra column to the right\n",
        "    model.add(Conv2D(32, kernel_size = (3,3), activation='relu', input_shape = input_shape))\n",
        "    model.add(BatchNormalization())\n",
        "    model.add(Conv2D(32, kernel_size = (3,3), activation='relu'))\n",
        "    model.add(BatchNormalization())\n",
        "\n",
        "    # Add convolutional layer consisting of 32 filters and shape of 5x5 with ReLU activation\n",
        "    # We give strides=2 for space between each sample on the pixel grid\n",
        "    model.add(Conv2D(32, kernel_size = (5,5), strides=2, padding='same', activation='relu'))\n",
        "    model.add(BatchNormalization())\n",
        "    # Dropping %40 of neurons\n",
        "    model.add(Dropout(0.4))\n",
        "    \n",
        "    model.add(Conv2D(64, kernel_size = (3,3), activation='relu'))\n",
        "    model.add(BatchNormalization())\n",
        "    model.add(Conv2D(64, kernel_size = (3,3), activation='relu'))\n",
        "    model.add(BatchNormalization())\n",
        "    model.add(Conv2D(64, kernel_size = (5,5), strides=2, padding='same', activation='relu'))\n",
        "    model.add(BatchNormalization())\n",
        "    model.add(Dropout(0.4))\n",
        "\n",
        "    model.add(Conv2D(128, kernel_size = 4, activation='relu'))\n",
        "    model.add(BatchNormalization())\n",
        "    # To be able to merge into fully connected layer we have to flatten\n",
        "    model.add(Flatten())\n",
        "    model.add(Dropout(0.4))\n",
        "    # Lets add softmax activated neurons as much as number of classes\n",
        "    model.add(Dense(num_classes, activation = \"softmax\"))\n",
        "    # Compile the model with loss and metrics\n",
        "    model.compile(optimizer =  Adam() , loss = \"categorical_crossentropy\", metrics=[\"accuracy\"])\n",
        "    \n",
        "    return model"
      ],
      "execution_count": 0,
      "outputs": []
    },
    {
      "cell_type": "markdown",
      "metadata": {
        "id": "Ep0PJ5_K3di8",
        "colab_type": "text"
      },
      "source": [
        "CNN models #2 :"
      ]
    },
    {
      "cell_type": "code",
      "metadata": {
        "id": "OI2WKJ4rtmGO",
        "colab_type": "code",
        "colab": {}
      },
      "source": [
        "def model_cnn2(input_shape=(48,48,1), num_classes=7) :\n",
        "  num_features = 64\n",
        "  model = Sequential()\n",
        "  model.add(Conv2D(num_features, kernel_size=(3, 3), activation='relu', input_shape=input_shape, data_format='channels_last', kernel_regularizer=l2(0.01)))\n",
        "  model.add(Conv2D(num_features, kernel_size=(3, 3), activation='relu', padding='same'))\n",
        "  model.add(BatchNormalization())\n",
        "  model.add(MaxPooling2D(pool_size=(2, 2), strides=(2, 2)))\n",
        "  model.add(Dropout(0.5))\n",
        "\n",
        "  model.add(Conv2D(2*num_features, kernel_size=(3, 3), activation='relu', padding='same'))\n",
        "  model.add(BatchNormalization())\n",
        "  model.add(Conv2D(2*num_features, kernel_size=(3, 3), activation='relu', padding='same'))\n",
        "  model.add(BatchNormalization())\n",
        "  model.add(MaxPooling2D(pool_size=(2, 2), strides=(2, 2)))\n",
        "  model.add(Dropout(0.5))\n",
        "\n",
        "  model.add(Conv2D(2*2*num_features, kernel_size=(3, 3), activation='relu', padding='same'))\n",
        "  model.add(BatchNormalization())\n",
        "  model.add(Conv2D(2*2*num_features, kernel_size=(3, 3), activation='relu', padding='same'))\n",
        "  model.add(BatchNormalization())\n",
        "  model.add(MaxPooling2D(pool_size=(2, 2), strides=(2, 2)))\n",
        "  model.add(Dropout(0.5))\n",
        "\n",
        "  model.add(Conv2D(2*2*2*num_features, kernel_size=(3, 3), activation='relu', padding='same'))\n",
        "  model.add(BatchNormalization())\n",
        "  model.add(Conv2D(2*2*2*num_features, kernel_size=(3, 3), activation='relu', padding='same'))\n",
        "  model.add(BatchNormalization())\n",
        "  model.add(MaxPooling2D(pool_size=(2, 2), strides=(2, 2)))\n",
        "  model.add(Dropout(0.5))\n",
        "\n",
        "  model.add(Flatten())\n",
        "\n",
        "  model.add(Dense(2*2*2*num_features, activation='relu'))\n",
        "  model.add(Dropout(0.4))\n",
        "  model.add(Dense(2*2*num_features, activation='relu'))\n",
        "  model.add(Dropout(0.4))\n",
        "  model.add(Dense(2*num_features, activation='relu'))\n",
        "  model.add(Dropout(0.5))\n",
        "\n",
        "  model.add(Dense(num_classes, activation='softmax'))\n",
        "  model.compile(optimizer =  Adam() , loss = \"categorical_crossentropy\", metrics=[\"accuracy\"])\n",
        "\n",
        "  return model"
      ],
      "execution_count": 0,
      "outputs": []
    },
    {
      "cell_type": "markdown",
      "metadata": {
        "id": "Ia2B9C_a3gMs",
        "colab_type": "text"
      },
      "source": [
        "Resnet Model :"
      ]
    },
    {
      "cell_type": "code",
      "metadata": {
        "id": "hi4i8NtasNU1",
        "colab_type": "code",
        "colab": {}
      },
      "source": [
        "def model_resnet(pretrained=True,freeze_layers=False, input_shape=(48,48,1), num_classes=7):\n",
        "  \n",
        "    if(pretrained):\n",
        "        base_model = applications.resnet50.ResNet50(weights= 'imagenet',\n",
        "                            include_top=True)\n",
        "    else:\n",
        "        base_model = applications.resnet50.ResNet50(weights= None,\n",
        "                            include_top=False, input_shape=input_shape)\n",
        "\n",
        "\n",
        "   \n",
        "    resnet_model = tf.keras.Sequential()\n",
        "    resnet_model.add(Conv2D(3,(3,3),padding='same', input_shape=input_shape))\n",
        "    resnet_model.add(base_model)\n",
        "    resnet_model.add(BatchNormalization())\n",
        "    resnet_model.add(Flatten())\n",
        "    resnet_model.add(Dense(8192, activation='relu'))\n",
        "    resnet_model.add(Dropout(0.4))\n",
        "    resnet_model.add(Dense(num_classes, activation='softmax'))\n",
        "    resnet_model.compile(optimizer =  Adam() , loss = \"categorical_crossentropy\", metrics=[\"accuracy\"])\n",
        "\n",
        "    return resnet_model"
      ],
      "execution_count": 0,
      "outputs": []
    },
    {
      "cell_type": "markdown",
      "metadata": {
        "id": "HiB4Qc3N2bHX",
        "colab_type": "text"
      },
      "source": [
        "HOG technique"
      ]
    },
    {
      "cell_type": "code",
      "metadata": {
        "id": "P59tFSU1xsWX",
        "colab_type": "code",
        "outputId": "0a5d4d31-280c-4a48-fd9d-fd24075e085b",
        "colab": {
          "base_uri": "https://localhost:8080/",
          "height": 51
        }
      },
      "source": [
        "print(\"extracting HOG features, this may take some minutes...\")\n",
        "\n",
        "hog_feats = []\n",
        "for img in train_x:\n",
        "    img = img.astype(\"uint8\")\n",
        "    img_ = cv2.resize(img, (64,128))\n",
        "    # img_ = cv2.equalizeHist(img_)\n",
        "\n",
        "    hog = cv2.HOGDescriptor()\n",
        "    hog_descr = hog.compute(img_)\n",
        "    hog_feats.append(hog_descr)\n",
        "\n",
        "\n",
        "train_x_hog = np.array(hog_feats)\n",
        "print(train_x_hog.shape)"
      ],
      "execution_count": 0,
      "outputs": [
        {
          "output_type": "stream",
          "text": [
            "extracting HOG features, this may take some minutes...\n",
            "(28709, 3780, 1)\n"
          ],
          "name": "stdout"
        }
      ]
    },
    {
      "cell_type": "code",
      "metadata": {
        "id": "1MH9IlAh22Ys",
        "colab_type": "code",
        "outputId": "493c2b0d-71e2-4862-ed1a-3aea882f419c",
        "colab": {
          "base_uri": "https://localhost:8080/",
          "height": 51
        }
      },
      "source": [
        "print(\"extracting HOG features, this may take some minutes...\")\n",
        "\n",
        "hog_feats = []\n",
        "for img in val_x:\n",
        "    img = img.astype(\"uint8\")\n",
        "    img_ = cv2.resize(img, (64,128))\n",
        "    # img_ = cv2.equalizeHist(img_)\n",
        "\n",
        "    hog = cv2.HOGDescriptor()\n",
        "    hog_descr = hog.compute(img_)\n",
        "    hog_feats.append(hog_descr)\n",
        "\n",
        "\n",
        "val_x_hog = np.array(hog_feats)\n",
        "print(val_x_hog.shape)"
      ],
      "execution_count": 0,
      "outputs": [
        {
          "output_type": "stream",
          "text": [
            "extracting HOG features, this may take some minutes...\n",
            "(3589, 3780, 1)\n"
          ],
          "name": "stdout"
        }
      ]
    },
    {
      "cell_type": "code",
      "metadata": {
        "id": "wD1YR8JDGWOz",
        "colab_type": "code",
        "outputId": "04d13ff9-c2b7-4112-fcb0-f746a01769d5",
        "colab": {
          "base_uri": "https://localhost:8080/",
          "height": 51
        }
      },
      "source": [
        "print(\"extracting HOG features, this may take some minutes...\")\n",
        "\n",
        "hog_feats_test = []\n",
        "for img in test_set_x:\n",
        "    img = img.astype(\"uint8\")\n",
        "    img_ = cv2.resize(img, (64,128))\n",
        "    # img_ = cv2.equalizeHist(img_)\n",
        "\n",
        "    hog = cv2.HOGDescriptor()\n",
        "    hog_descr = hog.compute(img_)\n",
        "    hog_feats_test.append(hog_descr)\n",
        "\n",
        "\n",
        "test_x_hog = np.array(hog_feats_test)\n",
        "print(test_x_hog.shape)"
      ],
      "execution_count": 0,
      "outputs": [
        {
          "output_type": "stream",
          "text": [
            "extracting HOG features, this may take some minutes...\n",
            "(3589, 3780, 1)\n"
          ],
          "name": "stdout"
        }
      ]
    },
    {
      "cell_type": "code",
      "metadata": {
        "id": "lc9yjsf1yml4",
        "colab_type": "code",
        "outputId": "3dc9147f-6190-42c1-a17b-5202e28af0a8",
        "colab": {
          "base_uri": "https://localhost:8080/",
          "height": 51
        }
      },
      "source": [
        "Xtrain_img, Xvalid_img, Xtrain_hog, Xvalid_hog, y_train, y_valid = \\\n",
        "train_test_split(img_x, hog_feats, labels,\n",
        "                shuffle=True, stratify=img_labels, test_size=0.1,\n",
        "                random_state=42)\n",
        "\n",
        "print(Xtrain_img.shape, Xtrain_hog.shape, y_train.shape)\n",
        "print(Xvalid_img.shape, Xvalid_hog.shape, y_valid.shape)"
      ],
      "execution_count": 0,
      "outputs": [
        {
          "output_type": "stream",
          "text": [
            "(29068, 48, 48, 1) (29068, 3780, 1) (29068, 7)\n",
            "(3230, 48, 48, 1) (3230, 3780, 1) (3230, 7)\n"
          ],
          "name": "stdout"
        }
      ]
    },
    {
      "cell_type": "code",
      "metadata": {
        "id": "WFeUKJpLyylr",
        "colab_type": "code",
        "colab": {}
      },
      "source": [
        "def dcnn_pipeline(input_shape):\n",
        "    model_in = Input(shape=input_shape, name=\"input_DCNN\")\n",
        "    \n",
        "    conv2d_1 = Conv2D(\n",
        "        filters=64,\n",
        "        kernel_size=(3,3),\n",
        "        activation='elu',\n",
        "        padding='same',\n",
        "        kernel_initializer='he_normal',\n",
        "        name='conv2d_1'\n",
        "    )(model_in)\n",
        "    batchnorm_1 = BatchNormalization(name='batchnorm_1')(conv2d_1)\n",
        "    conv2d_2 = Conv2D(\n",
        "        filters=64,\n",
        "        kernel_size=(3,3),\n",
        "        activation='elu',\n",
        "        padding='same',\n",
        "        kernel_initializer='he_normal',\n",
        "        name='conv2d_2'\n",
        "    )(batchnorm_1)\n",
        "    batchnorm_2 = BatchNormalization(name='batchnorm_2')(conv2d_2)\n",
        "    \n",
        "    maxpool2d_1 = MaxPooling2D(pool_size=(2,2), name='maxpool2d_1')(batchnorm_2)\n",
        "    dropout_1 = Dropout(0.4, name='dropout_1')(maxpool2d_1)\n",
        "\n",
        "    conv2d_3 = Conv2D(\n",
        "        filters=128,\n",
        "        kernel_size=(3,3),\n",
        "        activation='elu',\n",
        "        padding='same',\n",
        "        kernel_initializer='he_normal',\n",
        "        name='conv2d_3'\n",
        "    )(dropout_1)\n",
        "    batchnorm_3 = BatchNormalization(name='batchnorm_3')(conv2d_3)\n",
        "    conv2d_4 = Conv2D(\n",
        "        filters=128,\n",
        "        kernel_size=(3,3),\n",
        "        activation='elu',\n",
        "        padding='same',\n",
        "        kernel_initializer='he_normal',\n",
        "        name='conv2d_4'\n",
        "    )(batchnorm_3)\n",
        "    batchnorm_4 = BatchNormalization(name='batchnorm_4')(conv2d_4)\n",
        "    \n",
        "    maxpool2d_2 = MaxPooling2D(pool_size=(2,2), name='maxpool2d_2')(batchnorm_4)\n",
        "    dropout_2 = Dropout(0.4, name='dropout_2')(maxpool2d_2)\n",
        "\n",
        "    conv2d_5 = Conv2D(\n",
        "        filters=256,\n",
        "        kernel_size=(3,3),\n",
        "        activation='elu',\n",
        "        padding='same',\n",
        "        kernel_initializer='he_normal',\n",
        "        name='conv2d_5'\n",
        "    )(dropout_2)\n",
        "    batchnorm_5 = BatchNormalization(name='batchnorm_5')(conv2d_5)\n",
        "    conv2d_6 = Conv2D(\n",
        "        filters=256,\n",
        "        kernel_size=(3,3),\n",
        "        activation='elu',\n",
        "        padding='same',\n",
        "        kernel_initializer='he_normal',\n",
        "        name='conv2d_6'\n",
        "    )(batchnorm_5)\n",
        "    batchnorm_6 = BatchNormalization(name='batchnorm_6')(conv2d_6)\n",
        "    \n",
        "    maxpool2d_3 = MaxPooling2D(pool_size=(2,2), name='maxpool2d_3')(batchnorm_6)\n",
        "    dropout_3 = Dropout(0.4, name='dropout_3')(maxpool2d_3)\n",
        "\n",
        "    flatten = Flatten(name='flatten_dcnn')(dropout_3)\n",
        "        \n",
        "    dense_1 = Dense(\n",
        "        128,\n",
        "        activation='elu',\n",
        "        kernel_initializer='he_normal',\n",
        "        name='dense1_dcnn'\n",
        "    )(flatten)\n",
        "    batchnorm_7 = BatchNormalization(name='batchnorm_7')(dense_1)\n",
        "    \n",
        "    model_out = Dropout(0.6, name='dropout_4')(batchnorm_7)\n",
        "    \n",
        "    return model_in, model_out"
      ],
      "execution_count": 0,
      "outputs": []
    },
    {
      "cell_type": "code",
      "metadata": {
        "id": "2XAE3OVty7mx",
        "colab_type": "code",
        "colab": {}
      },
      "source": [
        "def facial_HOG_pipeline(input_shape):\n",
        "    model_in = Input(shape=input_shape, name=\"input_Facial_HOG\")\n",
        "    flatten = Flatten(name=\"flatten_hog\")(model_in)\n",
        "    dense1 = Dense(256, activation=\"relu\", name=\"dense1_hog\")(flatten)\n",
        "    model_out = Dropout(0.4, name='dropout1_hog')(dense1)\n",
        "        \n",
        "    return model_in, model_out"
      ],
      "execution_count": 0,
      "outputs": []
    },
    {
      "cell_type": "code",
      "metadata": {
        "id": "EC9lTUSHzAgf",
        "colab_type": "code",
        "colab": {}
      },
      "source": [
        "def merge_models(models_in: list, models_out: list, num_classes: int, show_summary=False):\n",
        "    \n",
        "    concated = Concatenate()(models_out)\n",
        "    dropout_1 = Dropout(0.4, name='dropout1_model')(concated)\n",
        "\n",
        "    dense1 = Dense(256, activation=\"relu\", name=\"dense1\")(dropout_1)\n",
        "    dropout_2 = Dropout(0.4, name='dropout2_model')(dense1)\n",
        "    out = Dense(num_classes, activation=\"softmax\", name=\"out_layer\")(dropout_2)\n",
        "\n",
        "    model = Model(inputs=models_in, outputs=out, name=\"FER_Model\")\n",
        "\n",
        "    if show_summary:\n",
        "        model.summary()\n",
        "    \n",
        "    return model"
      ],
      "execution_count": 0,
      "outputs": []
    },
    {
      "cell_type": "code",
      "metadata": {
        "id": "yMDUyI_WzFw5",
        "colab_type": "code",
        "colab": {}
      },
      "source": [
        "dcnn_in, dcnn_out = dcnn_pipeline(input_shape=(48,48,1))\n",
        "hog_in, hog_out = facial_HOG_pipeline(input_shape=(3780,1))"
      ],
      "execution_count": 0,
      "outputs": []
    },
    {
      "cell_type": "code",
      "metadata": {
        "id": "-4afoMEYzSpt",
        "colab_type": "code",
        "colab": {}
      },
      "source": [
        "early_stopping = EarlyStopping(\n",
        "    monitor='val_accuracy',\n",
        "    min_delta=0.0001,\n",
        "    patience=5,\n",
        "    verbose=1,\n",
        "    restore_best_weights=True,\n",
        ")\n",
        "\n",
        "lr_scheduler = ReduceLROnPlateau(\n",
        "    monitor='val_accuracy',\n",
        "    min_delta=0.00025,\n",
        "    factor=0.25,\n",
        "    patience=3,\n",
        "    min_lr=1e-6,\n",
        "    verbose=1,\n",
        ")\n",
        "\n",
        "callbacks = [\n",
        "    early_stopping,\n",
        "    lr_scheduler,\n",
        "]"
      ],
      "execution_count": 0,
      "outputs": []
    },
    {
      "cell_type": "code",
      "metadata": {
        "id": "nYgnIVxXzjzq",
        "colab_type": "code",
        "colab": {}
      },
      "source": [
        "def data_generator_hog(Xtrain_img, Xtain_hog, ytrain, batch_size):\n",
        "    while True:\n",
        "        idx = np.random.permutation(Xtrain_img.shape[0])\n",
        "\n",
        "        datagen = ImageDataGenerator(\n",
        "            rotation_range=15,\n",
        "            width_shift_range=0.15,\n",
        "            height_shift_range=0.15,\n",
        "            shear_range=0.15,\n",
        "            zoom_range=0.15,\n",
        "            horizontal_flip=True,\n",
        "        )\n",
        "\n",
        "        batches = datagen.flow(Xtrain_img[idx], ytrain[idx], batch_size=batch_size, shuffle=False)\n",
        "        idx0 = 0\n",
        "        for batch in batches:\n",
        "            idx1 = idx0 + batch[0].shape[0]\n",
        "\n",
        "            yield [batch[0], Xtain_hog[idx[ idx0:idx1 ]]], batch[1]\n",
        "\n",
        "            idx0 = idx1\n",
        "            if idx1 >= Xtrain_img.shape[0]:\n",
        "                break"
      ],
      "execution_count": 0,
      "outputs": []
    },
    {
      "cell_type": "code",
      "metadata": {
        "id": "Es22p5APzGdx",
        "colab_type": "code",
        "colab": {}
      },
      "source": [
        "model_1 = merge_models(\n",
        "    models_in=[dcnn_in, hog_in],\n",
        "    models_out=[dcnn_out, hog_out],\n",
        "    num_classes=7\n",
        ")"
      ],
      "execution_count": 0,
      "outputs": []
    },
    {
      "cell_type": "code",
      "metadata": {
        "id": "gqCp8FJXzmy4",
        "colab_type": "code",
        "outputId": "962cf27b-1502-4836-ba3b-aab503a4f9a0",
        "colab": {
          "base_uri": "https://localhost:8080/",
          "height": 1000
        }
      },
      "source": [
        "batch_size = 128\n",
        "epochs = 100#45\n",
        "lr = 0.001\n",
        "optim = optimizers.Adam(learning_rate=lr)\n",
        "\n",
        "model_1.compile(\n",
        "        loss='categorical_crossentropy',\n",
        "        optimizer=optim,\n",
        "        metrics=['accuracy']\n",
        ")\n",
        "\n",
        "history = model_1.fit(\n",
        "    data_generator_hog(train_x, train_x_hog, train_y, batch_size=batch_size,),\n",
        "    validation_data=([val_x, val_x_hog], val_y),\n",
        "    steps_per_epoch=len(train_x) / batch_size,\n",
        "    epochs=epochs,\n",
        "    callbacks=callbacks,\n",
        "    #use_multiprocessing=True\n",
        ")\n"
      ],
      "execution_count": 0,
      "outputs": [
        {
          "output_type": "stream",
          "text": [
            "Epoch 1/100\n",
            "225/224 [==============================] - 22s 98ms/step - loss: 1.9604 - accuracy: 0.2345 - val_loss: 1.7634 - val_accuracy: 0.3176 - lr: 0.0010\n",
            "Epoch 2/100\n",
            "225/224 [==============================] - 21s 95ms/step - loss: 1.7233 - accuracy: 0.3125 - val_loss: 1.5904 - val_accuracy: 0.3848 - lr: 0.0010\n",
            "Epoch 3/100\n",
            "225/224 [==============================] - 22s 96ms/step - loss: 1.6421 - accuracy: 0.3531 - val_loss: 1.5125 - val_accuracy: 0.4079 - lr: 0.0010\n",
            "Epoch 4/100\n",
            "225/224 [==============================] - 22s 96ms/step - loss: 1.5910 - accuracy: 0.3760 - val_loss: 1.4942 - val_accuracy: 0.4060 - lr: 0.0010\n",
            "Epoch 5/100\n",
            "225/224 [==============================] - 22s 96ms/step - loss: 1.5525 - accuracy: 0.3961 - val_loss: 1.4171 - val_accuracy: 0.4533 - lr: 0.0010\n",
            "Epoch 6/100\n",
            "225/224 [==============================] - 22s 96ms/step - loss: 1.4915 - accuracy: 0.4198 - val_loss: 1.3698 - val_accuracy: 0.4717 - lr: 0.0010\n",
            "Epoch 7/100\n",
            "225/224 [==============================] - 22s 97ms/step - loss: 1.4448 - accuracy: 0.4405 - val_loss: 1.3443 - val_accuracy: 0.4790 - lr: 0.0010\n",
            "Epoch 8/100\n",
            "225/224 [==============================] - 22s 97ms/step - loss: 1.4068 - accuracy: 0.4588 - val_loss: 1.2586 - val_accuracy: 0.5188 - lr: 0.0010\n",
            "Epoch 9/100\n",
            "225/224 [==============================] - 22s 97ms/step - loss: 1.3672 - accuracy: 0.4756 - val_loss: 1.2413 - val_accuracy: 0.5205 - lr: 0.0010\n",
            "Epoch 10/100\n",
            "225/224 [==============================] - 22s 97ms/step - loss: 1.3212 - accuracy: 0.4929 - val_loss: 1.2288 - val_accuracy: 0.5183 - lr: 0.0010\n",
            "Epoch 11/100\n",
            "225/224 [==============================] - 22s 97ms/step - loss: 1.2906 - accuracy: 0.5100 - val_loss: 1.1936 - val_accuracy: 0.5486 - lr: 0.0010\n",
            "Epoch 12/100\n",
            "225/224 [==============================] - 22s 97ms/step - loss: 1.2623 - accuracy: 0.5239 - val_loss: 1.1623 - val_accuracy: 0.5631 - lr: 0.0010\n",
            "Epoch 13/100\n",
            "225/224 [==============================] - 22s 97ms/step - loss: 1.2364 - accuracy: 0.5323 - val_loss: 1.1545 - val_accuracy: 0.5545 - lr: 0.0010\n",
            "Epoch 14/100\n",
            "225/224 [==============================] - 22s 97ms/step - loss: 1.2175 - accuracy: 0.5371 - val_loss: 1.1622 - val_accuracy: 0.5578 - lr: 0.0010\n",
            "Epoch 15/100\n",
            "225/224 [==============================] - ETA: 0s - loss: 1.1979 - accuracy: 0.5496\n",
            "Epoch 00015: ReduceLROnPlateau reducing learning rate to 0.0002500000118743628.\n",
            "225/224 [==============================] - 22s 97ms/step - loss: 1.1979 - accuracy: 0.5496 - val_loss: 1.1344 - val_accuracy: 0.5612 - lr: 0.0010\n",
            "Epoch 16/100\n",
            "225/224 [==============================] - 22s 98ms/step - loss: 1.1629 - accuracy: 0.5632 - val_loss: 1.0801 - val_accuracy: 0.5832 - lr: 2.5000e-04\n",
            "Epoch 17/100\n",
            "225/224 [==============================] - 22s 97ms/step - loss: 1.1367 - accuracy: 0.5729 - val_loss: 1.0849 - val_accuracy: 0.5840 - lr: 2.5000e-04\n",
            "Epoch 18/100\n",
            "225/224 [==============================] - 22s 97ms/step - loss: 1.1240 - accuracy: 0.5821 - val_loss: 1.0729 - val_accuracy: 0.5957 - lr: 2.5000e-04\n",
            "Epoch 19/100\n",
            "225/224 [==============================] - 22s 97ms/step - loss: 1.1156 - accuracy: 0.5822 - val_loss: 1.0732 - val_accuracy: 0.5952 - lr: 2.5000e-04\n",
            "Epoch 20/100\n",
            "225/224 [==============================] - 22s 97ms/step - loss: 1.1035 - accuracy: 0.5857 - val_loss: 1.0624 - val_accuracy: 0.5971 - lr: 2.5000e-04\n",
            "Epoch 21/100\n",
            "225/224 [==============================] - 22s 97ms/step - loss: 1.0977 - accuracy: 0.5889 - val_loss: 1.0412 - val_accuracy: 0.6018 - lr: 2.5000e-04\n",
            "Epoch 22/100\n",
            "225/224 [==============================] - 22s 97ms/step - loss: 1.0972 - accuracy: 0.5879 - val_loss: 1.0431 - val_accuracy: 0.6018 - lr: 2.5000e-04\n",
            "Epoch 23/100\n",
            "225/224 [==============================] - 22s 97ms/step - loss: 1.0837 - accuracy: 0.5928 - val_loss: 1.0361 - val_accuracy: 0.6060 - lr: 2.5000e-04\n",
            "Epoch 24/100\n",
            "225/224 [==============================] - 22s 97ms/step - loss: 1.0806 - accuracy: 0.5985 - val_loss: 1.0272 - val_accuracy: 0.6046 - lr: 2.5000e-04\n",
            "Epoch 25/100\n",
            "225/224 [==============================] - 22s 96ms/step - loss: 1.0736 - accuracy: 0.5996 - val_loss: 1.0406 - val_accuracy: 0.6004 - lr: 2.5000e-04\n",
            "Epoch 26/100\n",
            "224/224 [============================>.] - ETA: 0s - loss: 1.0672 - accuracy: 0.6034\n",
            "Epoch 00026: ReduceLROnPlateau reducing learning rate to 6.25000029685907e-05.\n",
            "225/224 [==============================] - 22s 97ms/step - loss: 1.0671 - accuracy: 0.6034 - val_loss: 1.0363 - val_accuracy: 0.6043 - lr: 2.5000e-04\n",
            "Epoch 27/100\n",
            "225/224 [==============================] - 22s 96ms/step - loss: 1.0615 - accuracy: 0.6022 - val_loss: 1.0171 - val_accuracy: 0.6141 - lr: 6.2500e-05\n",
            "Epoch 28/100\n",
            "225/224 [==============================] - 22s 97ms/step - loss: 1.0488 - accuracy: 0.6086 - val_loss: 1.0211 - val_accuracy: 0.6152 - lr: 6.2500e-05\n",
            "Epoch 29/100\n",
            "225/224 [==============================] - 22s 96ms/step - loss: 1.0406 - accuracy: 0.6104 - val_loss: 1.0149 - val_accuracy: 0.6163 - lr: 6.2500e-05\n",
            "Epoch 30/100\n",
            "225/224 [==============================] - 22s 96ms/step - loss: 1.0401 - accuracy: 0.6095 - val_loss: 1.0183 - val_accuracy: 0.6133 - lr: 6.2500e-05\n",
            "Epoch 31/100\n",
            "225/224 [==============================] - 22s 96ms/step - loss: 1.0397 - accuracy: 0.6129 - val_loss: 1.0202 - val_accuracy: 0.6121 - lr: 6.2500e-05\n",
            "Epoch 32/100\n",
            "224/224 [============================>.] - ETA: 0s - loss: 1.0391 - accuracy: 0.6121\n",
            "Epoch 00032: ReduceLROnPlateau reducing learning rate to 1.5625000742147677e-05.\n",
            "225/224 [==============================] - 22s 96ms/step - loss: 1.0392 - accuracy: 0.6121 - val_loss: 1.0162 - val_accuracy: 0.6147 - lr: 6.2500e-05\n",
            "Epoch 33/100\n",
            "225/224 [==============================] - 22s 96ms/step - loss: 1.0294 - accuracy: 0.6181 - val_loss: 1.0146 - val_accuracy: 0.6177 - lr: 1.5625e-05\n",
            "Epoch 34/100\n",
            "225/224 [==============================] - 22s 97ms/step - loss: 1.0328 - accuracy: 0.6154 - val_loss: 1.0117 - val_accuracy: 0.6183 - lr: 1.5625e-05\n",
            "Epoch 35/100\n",
            "225/224 [==============================] - 22s 97ms/step - loss: 1.0385 - accuracy: 0.6133 - val_loss: 1.0099 - val_accuracy: 0.6194 - lr: 1.5625e-05\n",
            "Epoch 36/100\n",
            "225/224 [==============================] - 22s 98ms/step - loss: 1.0315 - accuracy: 0.6145 - val_loss: 1.0091 - val_accuracy: 0.6186 - lr: 1.5625e-05\n",
            "Epoch 37/100\n",
            "225/224 [==============================] - 22s 98ms/step - loss: 1.0344 - accuracy: 0.6139 - val_loss: 1.0087 - val_accuracy: 0.6202 - lr: 1.5625e-05\n",
            "Epoch 38/100\n",
            "225/224 [==============================] - 22s 97ms/step - loss: 1.0292 - accuracy: 0.6160 - val_loss: 1.0098 - val_accuracy: 0.6183 - lr: 1.5625e-05\n",
            "Epoch 39/100\n",
            "225/224 [==============================] - 22s 97ms/step - loss: 1.0334 - accuracy: 0.6157 - val_loss: 1.0098 - val_accuracy: 0.6191 - lr: 1.5625e-05\n",
            "Epoch 40/100\n",
            "224/224 [============================>.] - ETA: 0s - loss: 1.0288 - accuracy: 0.6154\n",
            "Epoch 00040: ReduceLROnPlateau reducing learning rate to 3.906250185536919e-06.\n",
            "225/224 [==============================] - 22s 97ms/step - loss: 1.0286 - accuracy: 0.6155 - val_loss: 1.0113 - val_accuracy: 0.6180 - lr: 1.5625e-05\n",
            "Epoch 41/100\n",
            "225/224 [==============================] - 22s 96ms/step - loss: 1.0251 - accuracy: 0.6216 - val_loss: 1.0097 - val_accuracy: 0.6183 - lr: 3.9063e-06\n",
            "Epoch 42/100\n",
            "224/224 [============================>.] - ETA: 0s - loss: 1.0284 - accuracy: 0.6167Restoring model weights from the end of the best epoch.\n",
            "225/224 [==============================] - 22s 97ms/step - loss: 1.0283 - accuracy: 0.6168 - val_loss: 1.0111 - val_accuracy: 0.6177 - lr: 3.9063e-06\n",
            "Epoch 00042: early stopping\n"
          ],
          "name": "stdout"
        }
      ]
    },
    {
      "cell_type": "code",
      "metadata": {
        "id": "opFZdNZg6b3g",
        "colab_type": "code",
        "colab": {}
      },
      "source": [
        ""
      ],
      "execution_count": 0,
      "outputs": []
    },
    {
      "cell_type": "code",
      "metadata": {
        "id": "2rNhVQH0zxXN",
        "colab_type": "code",
        "outputId": "3030c19b-0fdd-411b-f619-2e1af042014f",
        "colab": {
          "base_uri": "https://localhost:8080/",
          "height": 293
        }
      },
      "source": [
        "sns.set()\n",
        "fig = pyplot.figure(0, (12, 4))\n",
        "\n",
        "ax = pyplot.subplot(1, 2, 1)\n",
        "sns.lineplot(history.epoch, history.history['accuracy'], label='train')\n",
        "sns.lineplot(history.epoch, history.history['val_accuracy'], label='valid')\n",
        "pyplot.title('Accuracy')\n",
        "pyplot.tight_layout()\n",
        "\n",
        "ax = pyplot.subplot(1, 2, 2)\n",
        "sns.lineplot(history.epoch, history.history['loss'], label='train')\n",
        "sns.lineplot(history.epoch, history.history['val_loss'], label='valid')\n",
        "pyplot.title('Loss')\n",
        "pyplot.tight_layout()\n",
        "\n",
        "pyplot.savefig('epoch_history_multipipe_model.png')\n",
        "pyplot.show()"
      ],
      "execution_count": 0,
      "outputs": [
        {
          "output_type": "display_data",
          "data": {
            "image/png": "[encoded data removed]",
            "text/plain": [
              "<Figure size 864x288 with 2 Axes>"
            ]
          },
          "metadata": {
            "tags": []
          }
        }
      ]
    },
    {
      "cell_type": "code",
      "metadata": {
        "id": "0PzgQb5g6hLp",
        "colab_type": "code",
        "colab": {}
      },
      "source": [
        "  model_1.save(os.path.join(mydir, 'model_hog.h5')) "
      ],
      "execution_count": 0,
      "outputs": []
    },
    {
      "cell_type": "code",
      "metadata": {
        "id": "8QrZvCXr44tX",
        "colab_type": "code",
        "outputId": "0beeaac0-3484-4858-998c-83fc228a648c",
        "colab": {
          "base_uri": "https://localhost:8080/",
          "height": 51
        }
      },
      "source": [
        "test_1 = model_1.evaluate([test_set_x, test_x_hog], test_set_y)\n",
        "print(test_1[0], test_1[1])"
      ],
      "execution_count": 0,
      "outputs": [
        {
          "output_type": "stream",
          "text": [
            "113/113 [==============================] - 1s 10ms/step - loss: 0.9625 - accuracy: 0.6350\n",
            "0.962494432926178 0.6349958181381226\n"
          ],
          "name": "stdout"
        }
      ]
    },
    {
      "cell_type": "code",
      "metadata": {
        "id": "tUzlIgBT5ITs",
        "colab_type": "code",
        "outputId": "6702cd14-30e4-47de-b961-7f4e2969f4c7",
        "colab": {
          "base_uri": "https://localhost:8080/",
          "height": 51
        }
      },
      "source": [
        "val_1 = model_1.evaluate([val_x, val_x_hog], val_y)\n",
        "print(val_1[0], val_1[1])"
      ],
      "execution_count": 0,
      "outputs": [
        {
          "output_type": "stream",
          "text": [
            "113/113 [==============================] - 1s 10ms/step - loss: 1.0087 - accuracy: 0.6202\n",
            "1.0086696147918701 0.6202284693717957\n"
          ],
          "name": "stdout"
        }
      ]
    },
    {
      "cell_type": "code",
      "metadata": {
        "id": "WcSEEyE4Fwk7",
        "colab_type": "code",
        "colab": {}
      },
      "source": [
        "def data_generator(Xtrain_img, ytrain, batch_size):\n",
        "    while True:\n",
        "        idx = np.random.permutation(Xtrain_img.shape[0])\n",
        "\n",
        "        datagen = ImageDataGenerator(\n",
        "            rotation_range=15,\n",
        "            width_shift_range=0.15,\n",
        "            height_shift_range=0.15,\n",
        "            shear_range=0.15,\n",
        "            zoom_range=0.15,\n",
        "            horizontal_flip=True,\n",
        "        )\n",
        "\n",
        "        batches = datagen.flow(Xtrain_img[idx], ytrain[idx], batch_size=batch_size, shuffle=False)\n",
        "        idx0 = 0\n",
        "        for batch in batches:\n",
        "            idx1 = idx0 + batch[0].shape[0]\n",
        "\n",
        "            yield batch[0], batch[1]\n",
        "\n",
        "            idx0 = idx1\n",
        "            if idx1 >= Xtrain_img.shape[0]:\n",
        "                break"
      ],
      "execution_count": 0,
      "outputs": []
    },
    {
      "cell_type": "code",
      "metadata": {
        "id": "iqNz-z7L4K1u",
        "colab_type": "code",
        "outputId": "4c17ffdc-2370-40b0-a443-0aac72dd30d7",
        "colab": {
          "base_uri": "https://localhost:8080/",
          "height": 1000
        }
      },
      "source": [
        "model_2 = model_cnn2()\n",
        "\n",
        "history_2 = model_2.fit(\n",
        "    data_generator(train_x, train_y, batch_size=batch_size,),\n",
        "    validation_data=(val_x, val_y),\n",
        "    steps_per_epoch=len(train_x) / batch_size,\n",
        "    epochs=epochs,\n",
        "    callbacks=callbacks,\n",
        "    #use_multiprocessing=True\n",
        ")"
      ],
      "execution_count": 0,
      "outputs": [
        {
          "output_type": "stream",
          "text": [
            "Epoch 1/100\n",
            "225/224 [==============================] - 27s 119ms/step - loss: 2.0133 - accuracy: 0.2149 - val_loss: 1.8623 - val_accuracy: 0.2494 - lr: 0.0010\n",
            "Epoch 2/100\n",
            "225/224 [==============================] - 26s 115ms/step - loss: 1.8474 - accuracy: 0.2439 - val_loss: 1.9109 - val_accuracy: 0.2494 - lr: 0.0010\n",
            "Epoch 3/100\n",
            "225/224 [==============================] - 26s 114ms/step - loss: 1.8121 - accuracy: 0.2595 - val_loss: 1.7750 - val_accuracy: 0.2867 - lr: 0.0010\n",
            "Epoch 4/100\n",
            "225/224 [==============================] - 26s 114ms/step - loss: 1.7604 - accuracy: 0.2904 - val_loss: 1.6344 - val_accuracy: 0.3279 - lr: 0.0010\n",
            "Epoch 5/100\n",
            "225/224 [==============================] - 25s 113ms/step - loss: 1.7171 - accuracy: 0.3060 - val_loss: 1.5799 - val_accuracy: 0.3310 - lr: 0.0010\n",
            "Epoch 6/100\n",
            "225/224 [==============================] - 25s 113ms/step - loss: 1.6638 - accuracy: 0.3354 - val_loss: 1.6356 - val_accuracy: 0.3750 - lr: 0.0010\n",
            "Epoch 7/100\n",
            "225/224 [==============================] - 26s 114ms/step - loss: 1.5889 - accuracy: 0.3695 - val_loss: 1.4861 - val_accuracy: 0.4244 - lr: 0.0010\n",
            "Epoch 8/100\n",
            "225/224 [==============================] - 26s 114ms/step - loss: 1.5347 - accuracy: 0.3959 - val_loss: 1.3749 - val_accuracy: 0.4441 - lr: 0.0010\n",
            "Epoch 9/100\n",
            "225/224 [==============================] - 26s 114ms/step - loss: 1.5018 - accuracy: 0.4113 - val_loss: 1.4040 - val_accuracy: 0.4232 - lr: 0.0010\n",
            "Epoch 10/100\n",
            "225/224 [==============================] - 26s 114ms/step - loss: 1.4787 - accuracy: 0.4147 - val_loss: 1.3307 - val_accuracy: 0.4603 - lr: 0.0010\n",
            "Epoch 11/100\n",
            "225/224 [==============================] - 25s 113ms/step - loss: 1.4547 - accuracy: 0.4277 - val_loss: 1.3311 - val_accuracy: 0.4809 - lr: 0.0010\n",
            "Epoch 12/100\n",
            "225/224 [==============================] - 26s 114ms/step - loss: 1.4388 - accuracy: 0.4310 - val_loss: 1.2983 - val_accuracy: 0.4834 - lr: 0.0010\n",
            "Epoch 13/100\n",
            "225/224 [==============================] - 25s 113ms/step - loss: 1.4174 - accuracy: 0.4459 - val_loss: 1.2617 - val_accuracy: 0.5010 - lr: 0.0010\n",
            "Epoch 14/100\n",
            "225/224 [==============================] - 26s 114ms/step - loss: 1.3841 - accuracy: 0.4670 - val_loss: 1.2704 - val_accuracy: 0.5130 - lr: 0.0010\n",
            "Epoch 15/100\n",
            "225/224 [==============================] - 26s 114ms/step - loss: 1.3763 - accuracy: 0.4778 - val_loss: 1.2333 - val_accuracy: 0.5266 - lr: 0.0010\n",
            "Epoch 16/100\n",
            "225/224 [==============================] - 26s 113ms/step - loss: 1.3562 - accuracy: 0.4844 - val_loss: 1.2887 - val_accuracy: 0.4996 - lr: 0.0010\n",
            "Epoch 17/100\n",
            "225/224 [==============================] - 26s 113ms/step - loss: 1.3401 - accuracy: 0.4926 - val_loss: 1.1952 - val_accuracy: 0.5464 - lr: 0.0010\n",
            "Epoch 18/100\n",
            "225/224 [==============================] - 25s 113ms/step - loss: 1.3279 - accuracy: 0.5034 - val_loss: 1.2162 - val_accuracy: 0.5458 - lr: 0.0010\n",
            "Epoch 19/100\n",
            "225/224 [==============================] - 25s 113ms/step - loss: 1.3120 - accuracy: 0.5108 - val_loss: 1.1552 - val_accuracy: 0.5639 - lr: 0.0010\n",
            "Epoch 20/100\n",
            "225/224 [==============================] - 25s 113ms/step - loss: 1.3062 - accuracy: 0.5126 - val_loss: 1.2311 - val_accuracy: 0.5436 - lr: 0.0010\n",
            "Epoch 21/100\n",
            "225/224 [==============================] - 26s 113ms/step - loss: 1.2816 - accuracy: 0.5222 - val_loss: 1.1739 - val_accuracy: 0.5712 - lr: 0.0010\n",
            "Epoch 22/100\n",
            "225/224 [==============================] - 25s 113ms/step - loss: 1.2768 - accuracy: 0.5282 - val_loss: 1.1735 - val_accuracy: 0.5704 - lr: 0.0010\n",
            "Epoch 23/100\n",
            "225/224 [==============================] - 25s 113ms/step - loss: 1.2720 - accuracy: 0.5293 - val_loss: 1.1835 - val_accuracy: 0.5536 - lr: 0.0010\n",
            "Epoch 24/100\n",
            "224/224 [============================>.] - ETA: 0s - loss: 1.2633 - accuracy: 0.5337\n",
            "Epoch 00024: ReduceLROnPlateau reducing learning rate to 0.0002500000118743628.\n",
            "225/224 [==============================] - 25s 113ms/step - loss: 1.2635 - accuracy: 0.5334 - val_loss: 1.1701 - val_accuracy: 0.5598 - lr: 0.0010\n",
            "Epoch 25/100\n",
            "225/224 [==============================] - 25s 113ms/step - loss: 1.2099 - accuracy: 0.5542 - val_loss: 1.0971 - val_accuracy: 0.5865 - lr: 2.5000e-04\n",
            "Epoch 26/100\n",
            "225/224 [==============================] - 25s 113ms/step - loss: 1.1847 - accuracy: 0.5641 - val_loss: 1.0848 - val_accuracy: 0.5946 - lr: 2.5000e-04\n",
            "Epoch 27/100\n",
            "225/224 [==============================] - 26s 114ms/step - loss: 1.1742 - accuracy: 0.5673 - val_loss: 1.0731 - val_accuracy: 0.5991 - lr: 2.5000e-04\n",
            "Epoch 28/100\n",
            "225/224 [==============================] - 26s 113ms/step - loss: 1.1704 - accuracy: 0.5672 - val_loss: 1.0742 - val_accuracy: 0.6013 - lr: 2.5000e-04\n",
            "Epoch 29/100\n",
            "225/224 [==============================] - 26s 113ms/step - loss: 1.1559 - accuracy: 0.5754 - val_loss: 1.0840 - val_accuracy: 0.5954 - lr: 2.5000e-04\n",
            "Epoch 30/100\n",
            "225/224 [==============================] - 25s 113ms/step - loss: 1.1565 - accuracy: 0.5777 - val_loss: 1.0661 - val_accuracy: 0.6080 - lr: 2.5000e-04\n",
            "Epoch 31/100\n",
            "225/224 [==============================] - 25s 113ms/step - loss: 1.1412 - accuracy: 0.5788 - val_loss: 1.0548 - val_accuracy: 0.6096 - lr: 2.5000e-04\n",
            "Epoch 32/100\n",
            "225/224 [==============================] - 25s 113ms/step - loss: 1.1356 - accuracy: 0.5829 - val_loss: 1.0498 - val_accuracy: 0.6130 - lr: 2.5000e-04\n",
            "Epoch 33/100\n",
            "225/224 [==============================] - 25s 113ms/step - loss: 1.1339 - accuracy: 0.5837 - val_loss: 1.0528 - val_accuracy: 0.6141 - lr: 2.5000e-04\n",
            "Epoch 34/100\n",
            "225/224 [==============================] - 25s 113ms/step - loss: 1.1237 - accuracy: 0.5892 - val_loss: 1.0500 - val_accuracy: 0.6135 - lr: 2.5000e-04\n",
            "Epoch 35/100\n",
            "225/224 [==============================] - 25s 113ms/step - loss: 1.1143 - accuracy: 0.5909 - val_loss: 1.0473 - val_accuracy: 0.6147 - lr: 2.5000e-04\n",
            "Epoch 36/100\n",
            "225/224 [==============================] - 25s 113ms/step - loss: 1.1212 - accuracy: 0.5876 - val_loss: 1.0442 - val_accuracy: 0.6188 - lr: 2.5000e-04\n",
            "Epoch 37/100\n",
            "225/224 [==============================] - 26s 113ms/step - loss: 1.1119 - accuracy: 0.5926 - val_loss: 1.0467 - val_accuracy: 0.6222 - lr: 2.5000e-04\n",
            "Epoch 38/100\n",
            "225/224 [==============================] - 25s 113ms/step - loss: 1.1068 - accuracy: 0.5966 - val_loss: 1.0409 - val_accuracy: 0.6252 - lr: 2.5000e-04\n",
            "Epoch 39/100\n",
            "225/224 [==============================] - 26s 114ms/step - loss: 1.1054 - accuracy: 0.5926 - val_loss: 1.0263 - val_accuracy: 0.6319 - lr: 2.5000e-04\n",
            "Epoch 40/100\n",
            "225/224 [==============================] - 25s 112ms/step - loss: 1.0931 - accuracy: 0.6029 - val_loss: 1.0302 - val_accuracy: 0.6266 - lr: 2.5000e-04\n",
            "Epoch 41/100\n",
            "225/224 [==============================] - 25s 113ms/step - loss: 1.0938 - accuracy: 0.6012 - val_loss: 1.0204 - val_accuracy: 0.6236 - lr: 2.5000e-04\n",
            "Epoch 42/100\n",
            "224/224 [============================>.] - ETA: 0s - loss: 1.0889 - accuracy: 0.6028\n",
            "Epoch 00042: ReduceLROnPlateau reducing learning rate to 6.25000029685907e-05.\n",
            "225/224 [==============================] - 25s 113ms/step - loss: 1.0889 - accuracy: 0.6028 - val_loss: 1.0206 - val_accuracy: 0.6311 - lr: 2.5000e-04\n",
            "Epoch 43/100\n",
            "225/224 [==============================] - 25s 113ms/step - loss: 1.0729 - accuracy: 0.6089 - val_loss: 1.0069 - val_accuracy: 0.6342 - lr: 6.2500e-05\n",
            "Epoch 44/100\n",
            "225/224 [==============================] - 26s 113ms/step - loss: 1.0665 - accuracy: 0.6128 - val_loss: 1.0008 - val_accuracy: 0.6336 - lr: 6.2500e-05\n",
            "Epoch 45/100\n",
            "225/224 [==============================] - 25s 113ms/step - loss: 1.0612 - accuracy: 0.6146 - val_loss: 1.0000 - val_accuracy: 0.6344 - lr: 6.2500e-05\n",
            "Epoch 46/100\n",
            "225/224 [==============================] - 25s 113ms/step - loss: 1.0609 - accuracy: 0.6157 - val_loss: 1.0035 - val_accuracy: 0.6305 - lr: 6.2500e-05\n",
            "Epoch 47/100\n",
            "225/224 [==============================] - 25s 113ms/step - loss: 1.0537 - accuracy: 0.6157 - val_loss: 1.0015 - val_accuracy: 0.6300 - lr: 6.2500e-05\n",
            "Epoch 48/100\n",
            "224/224 [============================>.] - ETA: 0s - loss: 1.0582 - accuracy: 0.6162\n",
            "Epoch 00048: ReduceLROnPlateau reducing learning rate to 1.5625000742147677e-05.\n",
            "225/224 [==============================] - 25s 113ms/step - loss: 1.0580 - accuracy: 0.6164 - val_loss: 1.0025 - val_accuracy: 0.6330 - lr: 6.2500e-05\n",
            "Epoch 49/100\n",
            "225/224 [==============================] - 25s 113ms/step - loss: 1.0500 - accuracy: 0.6170 - val_loss: 1.0009 - val_accuracy: 0.6314 - lr: 1.5625e-05\n",
            "Epoch 50/100\n",
            "224/224 [============================>.] - ETA: 0s - loss: 1.0481 - accuracy: 0.6207Restoring model weights from the end of the best epoch.\n",
            "225/224 [==============================] - 25s 113ms/step - loss: 1.0480 - accuracy: 0.6206 - val_loss: 0.9991 - val_accuracy: 0.6319 - lr: 1.5625e-05\n",
            "Epoch 00050: early stopping\n"
          ],
          "name": "stdout"
        }
      ]
    },
    {
      "cell_type": "code",
      "metadata": {
        "id": "XALJ5K4X6uz9",
        "colab_type": "code",
        "outputId": "08c608f5-c9f5-48bb-a499-b21644bab12b",
        "colab": {
          "base_uri": "https://localhost:8080/",
          "height": 293
        }
      },
      "source": [
        "sns.set()\n",
        "fig = pyplot.figure(0, (12, 4))\n",
        "\n",
        "ax = pyplot.subplot(1, 2, 1)\n",
        "sns.lineplot(history_2.epoch, history_2.history['accuracy'], label='train')\n",
        "sns.lineplot(history_2.epoch, history_2.history['val_accuracy'], label='valid')\n",
        "pyplot.title('Accuracy')\n",
        "pyplot.tight_layout()\n",
        "\n",
        "ax = pyplot.subplot(1, 2, 2)\n",
        "sns.lineplot(history_2.epoch, history_2.history['loss'], label='train')\n",
        "sns.lineplot(history_2.epoch, history_2.history['val_loss'], label='valid')\n",
        "pyplot.title('Loss')\n",
        "pyplot.tight_layout()\n",
        "\n",
        "pyplot.savefig('epoch_history_cnn2_model.png')\n",
        "pyplot.show()"
      ],
      "execution_count": 0,
      "outputs": [
        {
          "output_type": "display_data",
          "data": {
            "image/png": "[encoded data removed]",
            "text/plain": [
              "<Figure size 864x288 with 2 Axes>"
            ]
          },
          "metadata": {
            "tags": []
          }
        }
      ]
    },
    {
      "cell_type": "code",
      "metadata": {
        "id": "7_hawefB43YY",
        "colab_type": "code",
        "outputId": "7034e5af-a8ea-4953-94a1-3eaabb5aa259",
        "colab": {
          "base_uri": "https://localhost:8080/",
          "height": 51
        }
      },
      "source": [
        "test_2 = model_2.evaluate(test_set_x, test_set_y)\n",
        "print(test_2[0], test_2[1])"
      ],
      "execution_count": 0,
      "outputs": [
        {
          "output_type": "stream",
          "text": [
            "113/113 [==============================] - 1s 11ms/step - loss: 0.9790 - accuracy: 0.6386\n",
            "0.9789547324180603 0.638617992401123\n"
          ],
          "name": "stdout"
        }
      ]
    },
    {
      "cell_type": "code",
      "metadata": {
        "id": "1j4S3wFO5fTI",
        "colab_type": "code",
        "outputId": "bd5a4f05-ba90-4c17-8565-2e9239973233",
        "colab": {
          "base_uri": "https://localhost:8080/",
          "height": 51
        }
      },
      "source": [
        "val_2 = model_2.evaluate(val_x, val_y)\n",
        "print(val_2[0], val_2[1])"
      ],
      "execution_count": 0,
      "outputs": [
        {
          "output_type": "stream",
          "text": [
            "113/113 [==============================] - 1s 12ms/step - loss: 1.0000 - accuracy: 0.6344\n",
            "1.0000218152999878 0.6344385743141174\n"
          ],
          "name": "stdout"
        }
      ]
    },
    {
      "cell_type": "code",
      "metadata": {
        "id": "IjD2uh1I6o5D",
        "colab_type": "code",
        "colab": {}
      },
      "source": [
        "  model_2.save(os.path.join(mydir, 'model_cnn2.h5')) "
      ],
      "execution_count": 0,
      "outputs": []
    },
    {
      "cell_type": "markdown",
      "metadata": {
        "id": "UlTLQLLN4Vm4",
        "colab_type": "text"
      },
      "source": [
        "Models View :"
      ]
    },
    {
      "cell_type": "code",
      "metadata": {
        "id": "Z5prbBRHX_D1",
        "colab_type": "code",
        "outputId": "ba4c1a85-0a9e-4240-8890-994bdd18cda8",
        "colab": {
          "base_uri": "https://localhost:8080/",
          "height": 292
        }
      },
      "source": [
        "!pip install python-pptx"
      ],
      "execution_count": 0,
      "outputs": [
        {
          "output_type": "stream",
          "text": [
            "Collecting python-pptx\n",
            "\u001b[?25l  Downloading https://files.pythonhosted.org/packages/bf/86/eb979f7b0333ec769041aae36df8b9f1bd8bea5bbad44620663890dce561/python-pptx-0.6.18.tar.gz (8.9MB)\n",
            "\u001b[K     |████████████████████████████████| 8.9MB 8.7MB/s \n",
            "\u001b[?25hRequirement already satisfied: lxml>=3.1.0 in /usr/local/lib/python3.6/dist-packages (from python-pptx) (4.2.6)\n",
            "Requirement already satisfied: Pillow>=3.3.2 in /usr/local/lib/python3.6/dist-packages (from python-pptx) (7.0.0)\n",
            "Collecting XlsxWriter>=0.5.7\n",
            "\u001b[?25l  Downloading https://files.pythonhosted.org/packages/00/1f/2092a81056d36c1b6651a645aa84c1f76bcee03103072d4fe1cb58501d69/XlsxWriter-1.2.8-py2.py3-none-any.whl (141kB)\n",
            "\u001b[K     |████████████████████████████████| 143kB 52.4MB/s \n",
            "\u001b[?25hBuilding wheels for collected packages: python-pptx\n",
            "  Building wheel for python-pptx (setup.py) ... \u001b[?25l\u001b[?25hdone\n",
            "  Created wheel for python-pptx: filename=python_pptx-0.6.18-cp36-none-any.whl size=275706 sha256=ff5e518ae37891164a7672b85a338ecac40d1f7f299553abfb9b308be8a74f5d\n",
            "  Stored in directory: /root/.cache/pip/wheels/1f/1f/2c/29acca422b420a0b5210bd2cd7e9669804520d602d2462f20b\n",
            "Successfully built python-pptx\n",
            "Installing collected packages: XlsxWriter, python-pptx\n",
            "Successfully installed XlsxWriter-1.2.8 python-pptx-0.6.18\n"
          ],
          "name": "stdout"
        }
      ]
    },
    {
      "cell_type": "code",
      "metadata": {
        "id": "ZVDfsET-x-BF",
        "colab_type": "code",
        "colab": {}
      },
      "source": [
        "print(\"Original Network:\")\n",
        "plot_model(model_orig(), to_file='orig-cnn.png', show_shapes=True, show_layer_names=True)"
      ],
      "execution_count": 0,
      "outputs": []
    },
    {
      "cell_type": "code",
      "metadata": {
        "colab_type": "code",
        "id": "--UbHam_3saY",
        "colab": {}
      },
      "source": [
        "print(\"Original Network:\")\n",
        "plot_model(model_orig(), to_file='orig-cnn-simp.png', show_shapes=True, show_layer_names=True)"
      ],
      "execution_count": 0,
      "outputs": []
    },
    {
      "cell_type": "code",
      "metadata": {
        "trusted": true,
        "_uuid": "02093afb55f3706cd0cee60ae934b68ccd5bd1f9",
        "id": "l4U13324pAAP",
        "colab_type": "code",
        "colab": {}
      },
      "source": [
        "print(\"My Custom CNN Network:\")\n",
        "plot_model(model_cnn(), to_file='custom-cnn.png', show_shapes=True, show_layer_names=True)"
      ],
      "execution_count": 0,
      "outputs": []
    },
    {
      "cell_type": "code",
      "metadata": {
        "id": "sBXJ9bPKeS6V",
        "colab_type": "code",
        "colab": {}
      },
      "source": [
        "print(\" Resnet Network:\")\n",
        "plot_model(model_resnet(), to_file='resnet-50.png', show_shapes=True, show_layer_names=True)"
      ],
      "execution_count": 0,
      "outputs": []
    },
    {
      "cell_type": "code",
      "metadata": {
        "trusted": true,
        "_uuid": "02093afb55f3706cd0cee60ae934b68ccd5bd1f9",
        "id": "ipue87cvpAAa",
        "colab_type": "code",
        "colab": {}
      },
      "source": [
        "print(\"Second Custom CNN Network:\")\n",
        "plot_model(model_cnn2(), to_file='custom-cnn-2.png', show_shapes=True, show_layer_names=True)"
      ],
      "execution_count": 0,
      "outputs": []
    },
    {
      "cell_type": "code",
      "metadata": {
        "trusted": true,
        "_uuid": "f9a562361c9a42940bb22e9e41f3889c011f61f2",
        "id": "p3BGwbIYpAAf",
        "colab_type": "code",
        "outputId": "f92bec64-582f-4801-e78e-ca345a65c8e3",
        "colab": {
          "base_uri": "https://localhost:8080/",
          "height": 88
        }
      },
      "source": [
        "model = []\n",
        "model.append(model_orig())\n",
        "model.append(model_origsimp())\n",
        "model.append(model_cnn())\n",
        "model.append(model_cnn2())\n",
        "model.append(model_resnet())"
      ],
      "execution_count": 0,
      "outputs": [
        {
          "output_type": "stream",
          "text": [
            "Downloading data from https://storage.googleapis.com/tensorflow/keras-applications/resnet/resnet50_weights_tf_dim_ordering_tf_kernels.h5\n",
            "102973440/102967424 [==============================] - 1s 0us/step\n",
            "WARNING:tensorflow:Model was constructed with shape (None, 224, 224, 3) for input Tensor(\"input_3:0\", shape=(None, 224, 224, 3), dtype=float32), but it was called on an input with incompatible shape (None, 48, 48, 3).\n"
          ],
          "name": "stdout"
        }
      ]
    },
    {
      "cell_type": "markdown",
      "metadata": {
        "id": "KEuM_77P4tqK",
        "colab_type": "text"
      },
      "source": [
        "Train and save models :"
      ]
    },
    {
      "cell_type": "code",
      "metadata": {
        "id": "qk7gDMHBxQJF",
        "colab_type": "code",
        "outputId": "483246ae-e83a-420e-fde5-ae0f3c331d1f",
        "colab": {
          "base_uri": "https://localhost:8080/",
          "height": 1000
        }
      },
      "source": [
        "models = []\n",
        "model_hist = []\n",
        "num_epoch = 60\n",
        "batch_size = 128\n",
        "for i in range(len(model)):\n",
        "  hist = model[i].fit(train_x,train_y , validation_data = (val_x, val_y), verbose=1, epochs=num_epoch, batch_size=batch_size)\n",
        "  plot(hist.history['accuracy'], hist.history['val_accuracy'], 'Accuracy')\n",
        "  plot(hist.history['loss'], hist.history['val_loss'], 'Loss')\n",
        "  model[i].save(os.path.join(mydir, 'model_{}.h5'.format(i))) \n",
        "  models.append(model[i])\n",
        "  model_hist.append(hist)"
      ],
      "execution_count": 0,
      "outputs": [
        {
          "output_type": "stream",
          "text": [
            "Epoch 1/60\n",
            "225/225 [==============================] - 3s 14ms/step - loss: 1.2225 - accuracy: 0.5414 - val_loss: 1.3222 - val_accuracy: 0.5102\n",
            "Epoch 2/60\n",
            "225/225 [==============================] - 3s 14ms/step - loss: 1.2145 - accuracy: 0.5404 - val_loss: 1.3270 - val_accuracy: 0.5040\n",
            "Epoch 3/60\n",
            "225/225 [==============================] - 3s 14ms/step - loss: 1.2111 - accuracy: 0.5411 - val_loss: 1.3151 - val_accuracy: 0.5052\n",
            "Epoch 4/60\n",
            "225/225 [==============================] - 3s 14ms/step - loss: 1.2089 - accuracy: 0.5429 - val_loss: 1.3075 - val_accuracy: 0.5185\n",
            "Epoch 5/60\n",
            "225/225 [==============================] - 3s 14ms/step - loss: 1.2132 - accuracy: 0.5419 - val_loss: 1.3294 - val_accuracy: 0.5007\n",
            "Epoch 6/60\n",
            "225/225 [==============================] - 3s 14ms/step - loss: 1.2048 - accuracy: 0.5455 - val_loss: 1.3162 - val_accuracy: 0.5071\n",
            "Epoch 7/60\n",
            "225/225 [==============================] - 3s 14ms/step - loss: 1.2074 - accuracy: 0.5450 - val_loss: 1.3093 - val_accuracy: 0.5141\n",
            "Epoch 8/60\n",
            "225/225 [==============================] - 3s 14ms/step - loss: 1.2049 - accuracy: 0.5443 - val_loss: 1.3057 - val_accuracy: 0.5032\n",
            "Epoch 9/60\n",
            "225/225 [==============================] - 3s 14ms/step - loss: 1.2076 - accuracy: 0.5396 - val_loss: 1.3506 - val_accuracy: 0.4770\n",
            "Epoch 10/60\n",
            "225/225 [==============================] - 3s 14ms/step - loss: 1.2060 - accuracy: 0.5426 - val_loss: 1.3104 - val_accuracy: 0.5013\n",
            "Epoch 11/60\n",
            "225/225 [==============================] - 3s 14ms/step - loss: 1.2045 - accuracy: 0.5464 - val_loss: 1.3248 - val_accuracy: 0.5046\n",
            "Epoch 12/60\n",
            "225/225 [==============================] - 3s 14ms/step - loss: 1.2018 - accuracy: 0.5466 - val_loss: 1.3172 - val_accuracy: 0.5157\n",
            "Epoch 13/60\n",
            "225/225 [==============================] - 3s 14ms/step - loss: 1.1999 - accuracy: 0.5476 - val_loss: 1.3264 - val_accuracy: 0.5160\n",
            "Epoch 14/60\n",
            "225/225 [==============================] - 3s 14ms/step - loss: 1.1986 - accuracy: 0.5517 - val_loss: 1.3334 - val_accuracy: 0.5040\n",
            "Epoch 15/60\n",
            "225/225 [==============================] - 3s 14ms/step - loss: 1.2016 - accuracy: 0.5468 - val_loss: 1.3250 - val_accuracy: 0.5029\n",
            "Epoch 16/60\n",
            "225/225 [==============================] - 3s 14ms/step - loss: 1.2001 - accuracy: 0.5455 - val_loss: 1.3387 - val_accuracy: 0.4987\n",
            "Epoch 17/60\n",
            "225/225 [==============================] - 3s 14ms/step - loss: 1.1980 - accuracy: 0.5489 - val_loss: 1.3084 - val_accuracy: 0.5107\n",
            "Epoch 18/60\n",
            "225/225 [==============================] - 3s 14ms/step - loss: 1.1991 - accuracy: 0.5523 - val_loss: 1.3128 - val_accuracy: 0.5138\n",
            "Epoch 19/60\n",
            "225/225 [==============================] - 3s 14ms/step - loss: 1.1969 - accuracy: 0.5479 - val_loss: 1.4236 - val_accuracy: 0.4355\n",
            "Epoch 20/60\n",
            "225/225 [==============================] - 3s 14ms/step - loss: 1.1938 - accuracy: 0.5497 - val_loss: 1.3187 - val_accuracy: 0.5010\n",
            "Epoch 21/60\n",
            "225/225 [==============================] - 3s 14ms/step - loss: 1.1891 - accuracy: 0.5540 - val_loss: 1.3080 - val_accuracy: 0.5169\n",
            "Epoch 22/60\n",
            "225/225 [==============================] - 3s 14ms/step - loss: 1.1945 - accuracy: 0.5503 - val_loss: 1.3281 - val_accuracy: 0.4960\n",
            "Epoch 23/60\n",
            "225/225 [==============================] - 3s 14ms/step - loss: 1.1833 - accuracy: 0.5546 - val_loss: 1.3185 - val_accuracy: 0.4960\n",
            "Epoch 24/60\n",
            "225/225 [==============================] - 3s 14ms/step - loss: 1.1844 - accuracy: 0.5536 - val_loss: 1.3273 - val_accuracy: 0.5132\n",
            "Epoch 25/60\n",
            "225/225 [==============================] - 3s 14ms/step - loss: 1.1876 - accuracy: 0.5518 - val_loss: 1.3246 - val_accuracy: 0.5065\n",
            "Epoch 26/60\n",
            "225/225 [==============================] - 3s 14ms/step - loss: 1.1866 - accuracy: 0.5527 - val_loss: 1.3684 - val_accuracy: 0.4792\n",
            "Epoch 27/60\n",
            "225/225 [==============================] - 3s 14ms/step - loss: 1.1819 - accuracy: 0.5566 - val_loss: 1.2974 - val_accuracy: 0.5121\n",
            "Epoch 28/60\n",
            "225/225 [==============================] - 3s 14ms/step - loss: 1.1824 - accuracy: 0.5533 - val_loss: 1.3244 - val_accuracy: 0.5004\n",
            "Epoch 29/60\n",
            "225/225 [==============================] - 3s 14ms/step - loss: 1.1902 - accuracy: 0.5535 - val_loss: 1.3021 - val_accuracy: 0.5104\n",
            "Epoch 30/60\n",
            "225/225 [==============================] - 3s 14ms/step - loss: 1.1850 - accuracy: 0.5559 - val_loss: 1.3038 - val_accuracy: 0.5149\n",
            "Epoch 31/60\n",
            "225/225 [==============================] - 3s 14ms/step - loss: 1.1836 - accuracy: 0.5542 - val_loss: 1.3486 - val_accuracy: 0.4812\n",
            "Epoch 32/60\n",
            "225/225 [==============================] - 3s 14ms/step - loss: 1.1739 - accuracy: 0.5548 - val_loss: 1.3000 - val_accuracy: 0.5169\n",
            "Epoch 33/60\n",
            "225/225 [==============================] - 3s 14ms/step - loss: 1.1849 - accuracy: 0.5554 - val_loss: 1.3427 - val_accuracy: 0.4915\n",
            "Epoch 34/60\n",
            "225/225 [==============================] - 3s 14ms/step - loss: 1.1818 - accuracy: 0.5563 - val_loss: 1.3006 - val_accuracy: 0.5160\n",
            "Epoch 35/60\n",
            "225/225 [==============================] - 3s 14ms/step - loss: 1.1753 - accuracy: 0.5557 - val_loss: 1.3076 - val_accuracy: 0.5149\n",
            "Epoch 36/60\n",
            "225/225 [==============================] - 3s 14ms/step - loss: 1.1765 - accuracy: 0.5587 - val_loss: 1.3327 - val_accuracy: 0.4893\n",
            "Epoch 37/60\n",
            "225/225 [==============================] - 3s 14ms/step - loss: 1.1784 - accuracy: 0.5571 - val_loss: 1.3052 - val_accuracy: 0.5160\n",
            "Epoch 38/60\n",
            "225/225 [==============================] - 3s 14ms/step - loss: 1.1782 - accuracy: 0.5570 - val_loss: 1.3623 - val_accuracy: 0.4734\n",
            "Epoch 39/60\n",
            "225/225 [==============================] - 3s 14ms/step - loss: 1.1839 - accuracy: 0.5541 - val_loss: 1.2998 - val_accuracy: 0.5261\n",
            "Epoch 40/60\n",
            "225/225 [==============================] - 3s 14ms/step - loss: 1.1795 - accuracy: 0.5547 - val_loss: 1.3102 - val_accuracy: 0.5138\n",
            "Epoch 41/60\n",
            "225/225 [==============================] - 3s 14ms/step - loss: 1.1708 - accuracy: 0.5597 - val_loss: 1.3236 - val_accuracy: 0.4999\n",
            "Epoch 42/60\n",
            "225/225 [==============================] - 3s 14ms/step - loss: 1.1745 - accuracy: 0.5578 - val_loss: 1.3340 - val_accuracy: 0.4965\n",
            "Epoch 43/60\n",
            "225/225 [==============================] - 3s 14ms/step - loss: 1.1714 - accuracy: 0.5574 - val_loss: 1.3860 - val_accuracy: 0.4787\n",
            "Epoch 44/60\n",
            "225/225 [==============================] - 3s 14ms/step - loss: 1.1745 - accuracy: 0.5582 - val_loss: 1.3131 - val_accuracy: 0.5224\n",
            "Epoch 45/60\n",
            "225/225 [==============================] - 3s 14ms/step - loss: 1.1736 - accuracy: 0.5609 - val_loss: 1.3310 - val_accuracy: 0.5007\n",
            "Epoch 46/60\n",
            "225/225 [==============================] - 3s 14ms/step - loss: 1.1710 - accuracy: 0.5587 - val_loss: 1.3326 - val_accuracy: 0.5024\n",
            "Epoch 47/60\n",
            "225/225 [==============================] - 3s 14ms/step - loss: 1.1732 - accuracy: 0.5601 - val_loss: 1.3488 - val_accuracy: 0.5007\n",
            "Epoch 48/60\n",
            "225/225 [==============================] - 3s 14ms/step - loss: 1.1708 - accuracy: 0.5578 - val_loss: 1.2983 - val_accuracy: 0.5216\n",
            "Epoch 49/60\n",
            "225/225 [==============================] - 3s 14ms/step - loss: 1.1702 - accuracy: 0.5581 - val_loss: 1.3235 - val_accuracy: 0.5163\n",
            "Epoch 50/60\n",
            "225/225 [==============================] - 3s 14ms/step - loss: 1.1674 - accuracy: 0.5629 - val_loss: 1.3340 - val_accuracy: 0.4915\n",
            "Epoch 51/60\n",
            "225/225 [==============================] - 3s 14ms/step - loss: 1.1672 - accuracy: 0.5620 - val_loss: 1.2928 - val_accuracy: 0.5247\n",
            "Epoch 52/60\n",
            "225/225 [==============================] - 3s 14ms/step - loss: 1.1672 - accuracy: 0.5624 - val_loss: 1.3023 - val_accuracy: 0.5160\n",
            "Epoch 53/60\n",
            "225/225 [==============================] - 3s 14ms/step - loss: 1.1642 - accuracy: 0.5631 - val_loss: 1.3122 - val_accuracy: 0.5180\n",
            "Epoch 54/60\n",
            "225/225 [==============================] - 3s 14ms/step - loss: 1.1646 - accuracy: 0.5626 - val_loss: 1.3163 - val_accuracy: 0.5141\n",
            "Epoch 55/60\n",
            "225/225 [==============================] - 3s 14ms/step - loss: 1.1638 - accuracy: 0.5609 - val_loss: 1.3326 - val_accuracy: 0.5060\n",
            "Epoch 56/60\n",
            "225/225 [==============================] - 3s 14ms/step - loss: 1.1654 - accuracy: 0.5587 - val_loss: 1.3180 - val_accuracy: 0.5130\n",
            "Epoch 57/60\n",
            "225/225 [==============================] - 3s 14ms/step - loss: 1.1649 - accuracy: 0.5625 - val_loss: 1.3143 - val_accuracy: 0.5121\n",
            "Epoch 58/60\n",
            "225/225 [==============================] - 3s 14ms/step - loss: 1.1595 - accuracy: 0.5614 - val_loss: 1.3078 - val_accuracy: 0.5138\n",
            "Epoch 59/60\n",
            "225/225 [==============================] - 3s 14ms/step - loss: 1.1628 - accuracy: 0.5599 - val_loss: 1.2928 - val_accuracy: 0.5316\n",
            "Epoch 60/60\n",
            "225/225 [==============================] - 3s 14ms/step - loss: 1.1615 - accuracy: 0.5609 - val_loss: 1.3039 - val_accuracy: 0.5121\n",
            "Epoch 1/60\n",
            "225/225 [==============================] - 2s 10ms/step - loss: 2.4183 - accuracy: 0.3031 - val_loss: 2.0651 - val_accuracy: 0.2672\n",
            "Epoch 2/60\n",
            "225/225 [==============================] - 2s 9ms/step - loss: 1.6532 - accuracy: 0.3826 - val_loss: 1.8278 - val_accuracy: 0.3391\n",
            "Epoch 3/60\n",
            "225/225 [==============================] - 2s 9ms/step - loss: 1.6167 - accuracy: 0.4010 - val_loss: 1.7212 - val_accuracy: 0.3856\n",
            "Epoch 4/60\n",
            "225/225 [==============================] - 2s 9ms/step - loss: 1.5910 - accuracy: 0.4098 - val_loss: 1.5994 - val_accuracy: 0.4060\n",
            "Epoch 5/60\n",
            "225/225 [==============================] - 2s 9ms/step - loss: 1.5643 - accuracy: 0.4180 - val_loss: 1.6173 - val_accuracy: 0.4051\n",
            "Epoch 6/60\n",
            "225/225 [==============================] - 2s 9ms/step - loss: 1.5294 - accuracy: 0.4300 - val_loss: 1.6252 - val_accuracy: 0.3929\n",
            "Epoch 7/60\n",
            "225/225 [==============================] - 2s 9ms/step - loss: 1.5148 - accuracy: 0.4342 - val_loss: 1.5185 - val_accuracy: 0.4241\n",
            "Epoch 8/60\n",
            "225/225 [==============================] - 2s 9ms/step - loss: 1.4865 - accuracy: 0.4429 - val_loss: 1.5391 - val_accuracy: 0.4168\n",
            "Epoch 9/60\n",
            "225/225 [==============================] - 2s 9ms/step - loss: 1.4634 - accuracy: 0.4532 - val_loss: 1.5373 - val_accuracy: 0.4269\n",
            "Epoch 10/60\n",
            "225/225 [==============================] - 2s 9ms/step - loss: 1.4414 - accuracy: 0.4591 - val_loss: 1.4473 - val_accuracy: 0.4486\n",
            "Epoch 11/60\n",
            "225/225 [==============================] - 2s 9ms/step - loss: 1.4311 - accuracy: 0.4637 - val_loss: 1.4593 - val_accuracy: 0.4447\n",
            "Epoch 12/60\n",
            "225/225 [==============================] - 2s 9ms/step - loss: 1.4190 - accuracy: 0.4658 - val_loss: 1.4273 - val_accuracy: 0.4586\n",
            "Epoch 13/60\n",
            "225/225 [==============================] - 2s 9ms/step - loss: 1.4045 - accuracy: 0.4712 - val_loss: 1.4401 - val_accuracy: 0.4556\n",
            "Epoch 14/60\n",
            "225/225 [==============================] - 2s 9ms/step - loss: 1.3900 - accuracy: 0.4764 - val_loss: 1.4318 - val_accuracy: 0.4494\n",
            "Epoch 15/60\n",
            "225/225 [==============================] - 2s 9ms/step - loss: 1.3750 - accuracy: 0.4789 - val_loss: 1.4145 - val_accuracy: 0.4645\n",
            "Epoch 16/60\n",
            "225/225 [==============================] - 2s 9ms/step - loss: 1.3596 - accuracy: 0.4876 - val_loss: 1.3790 - val_accuracy: 0.4712\n",
            "Epoch 17/60\n",
            "225/225 [==============================] - 2s 9ms/step - loss: 1.3511 - accuracy: 0.4928 - val_loss: 1.4008 - val_accuracy: 0.4645\n",
            "Epoch 18/60\n",
            "225/225 [==============================] - 2s 9ms/step - loss: 1.3477 - accuracy: 0.4946 - val_loss: 1.3737 - val_accuracy: 0.4759\n",
            "Epoch 19/60\n",
            "225/225 [==============================] - 2s 9ms/step - loss: 1.3360 - accuracy: 0.4968 - val_loss: 1.4096 - val_accuracy: 0.4547\n",
            "Epoch 20/60\n",
            "225/225 [==============================] - 2s 9ms/step - loss: 1.3312 - accuracy: 0.4979 - val_loss: 1.3818 - val_accuracy: 0.4695\n",
            "Epoch 21/60\n",
            "225/225 [==============================] - 2s 9ms/step - loss: 1.3257 - accuracy: 0.4992 - val_loss: 1.3970 - val_accuracy: 0.4648\n",
            "Epoch 22/60\n",
            "225/225 [==============================] - 2s 9ms/step - loss: 1.3151 - accuracy: 0.5066 - val_loss: 1.3566 - val_accuracy: 0.4923\n",
            "Epoch 23/60\n",
            "225/225 [==============================] - 2s 9ms/step - loss: 1.3088 - accuracy: 0.5080 - val_loss: 1.3954 - val_accuracy: 0.4603\n",
            "Epoch 24/60\n",
            "225/225 [==============================] - 2s 9ms/step - loss: 1.3028 - accuracy: 0.5107 - val_loss: 1.3669 - val_accuracy: 0.4848\n",
            "Epoch 25/60\n",
            "225/225 [==============================] - 2s 9ms/step - loss: 1.2987 - accuracy: 0.5128 - val_loss: 1.3546 - val_accuracy: 0.4848\n",
            "Epoch 26/60\n",
            "225/225 [==============================] - 2s 9ms/step - loss: 1.2907 - accuracy: 0.5139 - val_loss: 1.4044 - val_accuracy: 0.4617\n",
            "Epoch 27/60\n",
            "225/225 [==============================] - 2s 9ms/step - loss: 1.2891 - accuracy: 0.5161 - val_loss: 1.4222 - val_accuracy: 0.4620\n",
            "Epoch 28/60\n",
            "225/225 [==============================] - 2s 9ms/step - loss: 1.2869 - accuracy: 0.5165 - val_loss: 1.3620 - val_accuracy: 0.4834\n",
            "Epoch 29/60\n",
            "225/225 [==============================] - 2s 9ms/step - loss: 1.2803 - accuracy: 0.5212 - val_loss: 1.3494 - val_accuracy: 0.4790\n",
            "Epoch 30/60\n",
            "225/225 [==============================] - 2s 9ms/step - loss: 1.2823 - accuracy: 0.5190 - val_loss: 1.3934 - val_accuracy: 0.4670\n",
            "Epoch 31/60\n",
            "225/225 [==============================] - 2s 9ms/step - loss: 1.2799 - accuracy: 0.5196 - val_loss: 1.3682 - val_accuracy: 0.4753\n",
            "Epoch 32/60\n",
            "225/225 [==============================] - 2s 9ms/step - loss: 1.2693 - accuracy: 0.5232 - val_loss: 1.3407 - val_accuracy: 0.4957\n",
            "Epoch 33/60\n",
            "225/225 [==============================] - 2s 9ms/step - loss: 1.2738 - accuracy: 0.5212 - val_loss: 1.3708 - val_accuracy: 0.4806\n",
            "Epoch 34/60\n",
            "225/225 [==============================] - 2s 9ms/step - loss: 1.2692 - accuracy: 0.5231 - val_loss: 1.3350 - val_accuracy: 0.4960\n",
            "Epoch 35/60\n",
            "225/225 [==============================] - 2s 9ms/step - loss: 1.2622 - accuracy: 0.5265 - val_loss: 1.3681 - val_accuracy: 0.4712\n",
            "Epoch 36/60\n",
            "225/225 [==============================] - 2s 9ms/step - loss: 1.2622 - accuracy: 0.5276 - val_loss: 1.3481 - val_accuracy: 0.4898\n",
            "Epoch 37/60\n",
            "225/225 [==============================] - 2s 9ms/step - loss: 1.2581 - accuracy: 0.5277 - val_loss: 1.3568 - val_accuracy: 0.4937\n",
            "Epoch 38/60\n",
            "225/225 [==============================] - 2s 9ms/step - loss: 1.2584 - accuracy: 0.5276 - val_loss: 1.3359 - val_accuracy: 0.5091\n",
            "Epoch 39/60\n",
            "225/225 [==============================] - 2s 9ms/step - loss: 1.2547 - accuracy: 0.5288 - val_loss: 1.3301 - val_accuracy: 0.5035\n",
            "Epoch 40/60\n",
            "225/225 [==============================] - 2s 9ms/step - loss: 1.2558 - accuracy: 0.5290 - val_loss: 1.3551 - val_accuracy: 0.4728\n",
            "Epoch 41/60\n",
            "225/225 [==============================] - 2s 9ms/step - loss: 1.2537 - accuracy: 0.5283 - val_loss: 1.3450 - val_accuracy: 0.4837\n",
            "Epoch 42/60\n",
            "225/225 [==============================] - 2s 9ms/step - loss: 1.2466 - accuracy: 0.5315 - val_loss: 1.3426 - val_accuracy: 0.5038\n",
            "Epoch 43/60\n",
            "225/225 [==============================] - 2s 9ms/step - loss: 1.2500 - accuracy: 0.5324 - val_loss: 1.3738 - val_accuracy: 0.4751\n",
            "Epoch 44/60\n",
            "225/225 [==============================] - 2s 9ms/step - loss: 1.2480 - accuracy: 0.5299 - val_loss: 1.3302 - val_accuracy: 0.4960\n",
            "Epoch 45/60\n",
            "225/225 [==============================] - 2s 9ms/step - loss: 1.2410 - accuracy: 0.5337 - val_loss: 1.3437 - val_accuracy: 0.4909\n",
            "Epoch 46/60\n",
            "225/225 [==============================] - 2s 9ms/step - loss: 1.2444 - accuracy: 0.5300 - val_loss: 1.3153 - val_accuracy: 0.5124\n",
            "Epoch 47/60\n",
            "225/225 [==============================] - 2s 9ms/step - loss: 1.2370 - accuracy: 0.5358 - val_loss: 1.3342 - val_accuracy: 0.4890\n",
            "Epoch 48/60\n",
            "225/225 [==============================] - 2s 9ms/step - loss: 1.2397 - accuracy: 0.5309 - val_loss: 1.3366 - val_accuracy: 0.4868\n",
            "Epoch 49/60\n",
            "225/225 [==============================] - 2s 9ms/step - loss: 1.2356 - accuracy: 0.5355 - val_loss: 1.3325 - val_accuracy: 0.4851\n",
            "Epoch 50/60\n",
            "225/225 [==============================] - 2s 9ms/step - loss: 1.2368 - accuracy: 0.5356 - val_loss: 1.3486 - val_accuracy: 0.4784\n",
            "Epoch 51/60\n",
            "225/225 [==============================] - 2s 9ms/step - loss: 1.2390 - accuracy: 0.5371 - val_loss: 1.3178 - val_accuracy: 0.5068\n",
            "Epoch 52/60\n",
            "225/225 [==============================] - 2s 9ms/step - loss: 1.2338 - accuracy: 0.5351 - val_loss: 1.3190 - val_accuracy: 0.5099\n",
            "Epoch 53/60\n",
            "225/225 [==============================] - 2s 9ms/step - loss: 1.2351 - accuracy: 0.5368 - val_loss: 1.3273 - val_accuracy: 0.4887\n",
            "Epoch 54/60\n",
            "225/225 [==============================] - 2s 9ms/step - loss: 1.2298 - accuracy: 0.5397 - val_loss: 1.3904 - val_accuracy: 0.4544\n",
            "Epoch 55/60\n",
            "225/225 [==============================] - 2s 9ms/step - loss: 1.2303 - accuracy: 0.5403 - val_loss: 1.3300 - val_accuracy: 0.4915\n",
            "Epoch 56/60\n",
            "225/225 [==============================] - 2s 9ms/step - loss: 1.2298 - accuracy: 0.5366 - val_loss: 1.3387 - val_accuracy: 0.4979\n",
            "Epoch 57/60\n",
            "225/225 [==============================] - 2s 9ms/step - loss: 1.2241 - accuracy: 0.5403 - val_loss: 1.3155 - val_accuracy: 0.5091\n",
            "Epoch 58/60\n",
            "225/225 [==============================] - 2s 9ms/step - loss: 1.2252 - accuracy: 0.5400 - val_loss: 1.3205 - val_accuracy: 0.5074\n",
            "Epoch 59/60\n",
            "225/225 [==============================] - 2s 9ms/step - loss: 1.2203 - accuracy: 0.5392 - val_loss: 1.3268 - val_accuracy: 0.5038\n",
            "Epoch 60/60\n",
            "225/225 [==============================] - 2s 9ms/step - loss: 1.2192 - accuracy: 0.5412 - val_loss: 1.3362 - val_accuracy: 0.5077\n",
            "Epoch 1/60\n",
            "225/225 [==============================] - 5s 23ms/step - loss: 2.1406 - accuracy: 0.3162 - val_loss: 1.8518 - val_accuracy: 0.4224\n",
            "Epoch 2/60\n",
            "225/225 [==============================] - 5s 21ms/step - loss: 1.7206 - accuracy: 0.4031 - val_loss: 1.7278 - val_accuracy: 0.4483\n",
            "Epoch 3/60\n",
            "225/225 [==============================] - 5s 21ms/step - loss: 1.5386 - accuracy: 0.4506 - val_loss: 1.5628 - val_accuracy: 0.4709\n",
            "Epoch 4/60\n",
            "225/225 [==============================] - 5s 21ms/step - loss: 1.3971 - accuracy: 0.4856 - val_loss: 1.3303 - val_accuracy: 0.5149\n",
            "Epoch 5/60\n",
            "225/225 [==============================] - 5s 21ms/step - loss: 1.2883 - accuracy: 0.5165 - val_loss: 1.2829 - val_accuracy: 0.5336\n",
            "Epoch 6/60\n",
            "225/225 [==============================] - 5s 21ms/step - loss: 1.2273 - accuracy: 0.5358 - val_loss: 1.2150 - val_accuracy: 0.5453\n",
            "Epoch 7/60\n",
            "225/225 [==============================] - 5s 21ms/step - loss: 1.1845 - accuracy: 0.5548 - val_loss: 1.2490 - val_accuracy: 0.5428\n",
            "Epoch 8/60\n",
            "225/225 [==============================] - 5s 21ms/step - loss: 1.1357 - accuracy: 0.5740 - val_loss: 1.1937 - val_accuracy: 0.5500\n",
            "Epoch 9/60\n",
            "225/225 [==============================] - 5s 21ms/step - loss: 1.1044 - accuracy: 0.5819 - val_loss: 1.1946 - val_accuracy: 0.5720\n",
            "Epoch 10/60\n",
            "225/225 [==============================] - 5s 21ms/step - loss: 1.0784 - accuracy: 0.5935 - val_loss: 1.1530 - val_accuracy: 0.5759\n",
            "Epoch 11/60\n",
            "225/225 [==============================] - 5s 21ms/step - loss: 1.0509 - accuracy: 0.6038 - val_loss: 1.1714 - val_accuracy: 0.5743\n",
            "Epoch 12/60\n",
            "225/225 [==============================] - 5s 21ms/step - loss: 1.0299 - accuracy: 0.6124 - val_loss: 1.1582 - val_accuracy: 0.5801\n",
            "Epoch 13/60\n",
            "225/225 [==============================] - 5s 21ms/step - loss: 1.0092 - accuracy: 0.6181 - val_loss: 1.1249 - val_accuracy: 0.5834\n",
            "Epoch 14/60\n",
            "225/225 [==============================] - 5s 21ms/step - loss: 0.9845 - accuracy: 0.6274 - val_loss: 1.1464 - val_accuracy: 0.5862\n",
            "Epoch 15/60\n",
            "225/225 [==============================] - 5s 21ms/step - loss: 0.9626 - accuracy: 0.6413 - val_loss: 1.0878 - val_accuracy: 0.5993\n",
            "Epoch 16/60\n",
            "225/225 [==============================] - 5s 21ms/step - loss: 0.9370 - accuracy: 0.6481 - val_loss: 1.1180 - val_accuracy: 0.5921\n",
            "Epoch 17/60\n",
            "225/225 [==============================] - 5s 21ms/step - loss: 0.9207 - accuracy: 0.6530 - val_loss: 1.1151 - val_accuracy: 0.5957\n",
            "Epoch 18/60\n",
            "225/225 [==============================] - 5s 21ms/step - loss: 0.9069 - accuracy: 0.6599 - val_loss: 1.1805 - val_accuracy: 0.5896\n",
            "Epoch 19/60\n",
            "225/225 [==============================] - 5s 22ms/step - loss: 0.8861 - accuracy: 0.6681 - val_loss: 1.1490 - val_accuracy: 0.5910\n",
            "Epoch 20/60\n",
            "225/225 [==============================] - 5s 22ms/step - loss: 0.8629 - accuracy: 0.6777 - val_loss: 1.1077 - val_accuracy: 0.6030\n",
            "Epoch 21/60\n",
            "225/225 [==============================] - 5s 21ms/step - loss: 0.8421 - accuracy: 0.6861 - val_loss: 1.1192 - val_accuracy: 0.6046\n",
            "Epoch 22/60\n",
            "225/225 [==============================] - 5s 21ms/step - loss: 0.8361 - accuracy: 0.6885 - val_loss: 1.1442 - val_accuracy: 0.6052\n",
            "Epoch 23/60\n",
            "225/225 [==============================] - 5s 21ms/step - loss: 0.8143 - accuracy: 0.6981 - val_loss: 1.1087 - val_accuracy: 0.6113\n",
            "Epoch 24/60\n",
            "225/225 [==============================] - 5s 21ms/step - loss: 0.7936 - accuracy: 0.7007 - val_loss: 1.1132 - val_accuracy: 0.6071\n",
            "Epoch 25/60\n",
            "225/225 [==============================] - 5s 21ms/step - loss: 0.7776 - accuracy: 0.7076 - val_loss: 1.1420 - val_accuracy: 0.6213\n",
            "Epoch 26/60\n",
            "225/225 [==============================] - 5s 21ms/step - loss: 0.7746 - accuracy: 0.7105 - val_loss: 1.1419 - val_accuracy: 0.6016\n",
            "Epoch 27/60\n",
            "225/225 [==============================] - 5s 21ms/step - loss: 0.7586 - accuracy: 0.7147 - val_loss: 1.2347 - val_accuracy: 0.6177\n",
            "Epoch 28/60\n",
            "225/225 [==============================] - 5s 21ms/step - loss: 0.7381 - accuracy: 0.7257 - val_loss: 1.1369 - val_accuracy: 0.6230\n",
            "Epoch 29/60\n",
            "225/225 [==============================] - 5s 21ms/step - loss: 0.7252 - accuracy: 0.7273 - val_loss: 1.1142 - val_accuracy: 0.6239\n",
            "Epoch 30/60\n",
            "225/225 [==============================] - 5s 21ms/step - loss: 0.7087 - accuracy: 0.7364 - val_loss: 1.1646 - val_accuracy: 0.6085\n",
            "Epoch 31/60\n",
            "225/225 [==============================] - 5s 21ms/step - loss: 0.6964 - accuracy: 0.7377 - val_loss: 1.1972 - val_accuracy: 0.6225\n",
            "Epoch 32/60\n",
            "225/225 [==============================] - 5s 21ms/step - loss: 0.6840 - accuracy: 0.7482 - val_loss: 1.1762 - val_accuracy: 0.6227\n",
            "Epoch 33/60\n",
            "225/225 [==============================] - 5s 21ms/step - loss: 0.6712 - accuracy: 0.7514 - val_loss: 1.1584 - val_accuracy: 0.6208\n",
            "Epoch 34/60\n",
            "225/225 [==============================] - 5s 21ms/step - loss: 0.6590 - accuracy: 0.7537 - val_loss: 1.2368 - val_accuracy: 0.6197\n",
            "Epoch 35/60\n",
            "225/225 [==============================] - 5s 21ms/step - loss: 0.6472 - accuracy: 0.7589 - val_loss: 1.1847 - val_accuracy: 0.6191\n",
            "Epoch 36/60\n",
            "225/225 [==============================] - 5s 21ms/step - loss: 0.6462 - accuracy: 0.7618 - val_loss: 1.2049 - val_accuracy: 0.6275\n",
            "Epoch 37/60\n",
            "225/225 [==============================] - 5s 21ms/step - loss: 0.6323 - accuracy: 0.7658 - val_loss: 1.1828 - val_accuracy: 0.6230\n",
            "Epoch 38/60\n",
            "225/225 [==============================] - 5s 21ms/step - loss: 0.6196 - accuracy: 0.7692 - val_loss: 1.2066 - val_accuracy: 0.6225\n",
            "Epoch 39/60\n",
            "225/225 [==============================] - 5s 21ms/step - loss: 0.6054 - accuracy: 0.7745 - val_loss: 1.1499 - val_accuracy: 0.6186\n",
            "Epoch 40/60\n",
            "225/225 [==============================] - 5s 21ms/step - loss: 0.6018 - accuracy: 0.7745 - val_loss: 1.1600 - val_accuracy: 0.6230\n",
            "Epoch 41/60\n",
            "225/225 [==============================] - 5s 21ms/step - loss: 0.5843 - accuracy: 0.7812 - val_loss: 1.2329 - val_accuracy: 0.6205\n",
            "Epoch 42/60\n",
            "225/225 [==============================] - 5s 21ms/step - loss: 0.5783 - accuracy: 0.7854 - val_loss: 1.1747 - val_accuracy: 0.6147\n",
            "Epoch 43/60\n",
            "225/225 [==============================] - 5s 21ms/step - loss: 0.5719 - accuracy: 0.7872 - val_loss: 1.2265 - val_accuracy: 0.6233\n",
            "Epoch 44/60\n",
            "225/225 [==============================] - 5s 21ms/step - loss: 0.5703 - accuracy: 0.7893 - val_loss: 1.2228 - val_accuracy: 0.6250\n",
            "Epoch 45/60\n",
            "225/225 [==============================] - 5s 21ms/step - loss: 0.5663 - accuracy: 0.7897 - val_loss: 1.2006 - val_accuracy: 0.6336\n",
            "Epoch 46/60\n",
            "225/225 [==============================] - 5s 21ms/step - loss: 0.5420 - accuracy: 0.7983 - val_loss: 1.2514 - val_accuracy: 0.6280\n",
            "Epoch 47/60\n",
            "225/225 [==============================] - 5s 21ms/step - loss: 0.5442 - accuracy: 0.7982 - val_loss: 1.2269 - val_accuracy: 0.6283\n",
            "Epoch 48/60\n",
            "225/225 [==============================] - 5s 21ms/step - loss: 0.5327 - accuracy: 0.8023 - val_loss: 1.2514 - val_accuracy: 0.6172\n",
            "Epoch 49/60\n",
            "225/225 [==============================] - 5s 21ms/step - loss: 0.5180 - accuracy: 0.8078 - val_loss: 1.2792 - val_accuracy: 0.6227\n",
            "Epoch 50/60\n",
            "225/225 [==============================] - 5s 21ms/step - loss: 0.5145 - accuracy: 0.8091 - val_loss: 1.2636 - val_accuracy: 0.6197\n",
            "Epoch 51/60\n",
            "225/225 [==============================] - 5s 21ms/step - loss: 0.5159 - accuracy: 0.8066 - val_loss: 1.2631 - val_accuracy: 0.6158\n",
            "Epoch 52/60\n",
            "225/225 [==============================] - 5s 21ms/step - loss: 0.5111 - accuracy: 0.8105 - val_loss: 1.2520 - val_accuracy: 0.6241\n",
            "Epoch 53/60\n",
            "225/225 [==============================] - 5s 21ms/step - loss: 0.4942 - accuracy: 0.8170 - val_loss: 1.3183 - val_accuracy: 0.6241\n",
            "Epoch 54/60\n",
            "225/225 [==============================] - 5s 21ms/step - loss: 0.4949 - accuracy: 0.8149 - val_loss: 1.2935 - val_accuracy: 0.6236\n",
            "Epoch 55/60\n",
            "225/225 [==============================] - 5s 21ms/step - loss: 0.4940 - accuracy: 0.8156 - val_loss: 1.2372 - val_accuracy: 0.6127\n",
            "Epoch 56/60\n",
            "225/225 [==============================] - 5s 21ms/step - loss: 0.4804 - accuracy: 0.8224 - val_loss: 1.2656 - val_accuracy: 0.6172\n",
            "Epoch 57/60\n",
            "225/225 [==============================] - 5s 21ms/step - loss: 0.4696 - accuracy: 0.8246 - val_loss: 1.3524 - val_accuracy: 0.6180\n",
            "Epoch 58/60\n",
            "225/225 [==============================] - 5s 21ms/step - loss: 0.4726 - accuracy: 0.8241 - val_loss: 1.3062 - val_accuracy: 0.6289\n",
            "Epoch 59/60\n",
            "225/225 [==============================] - 5s 21ms/step - loss: 0.4672 - accuracy: 0.8260 - val_loss: 1.3656 - val_accuracy: 0.6180\n",
            "Epoch 60/60\n",
            "225/225 [==============================] - 5s 21ms/step - loss: 0.4651 - accuracy: 0.8265 - val_loss: 1.3234 - val_accuracy: 0.6205\n",
            "Epoch 1/60\n",
            "225/225 [==============================] - 11s 49ms/step - loss: 2.0169 - accuracy: 0.2151 - val_loss: 1.8051 - val_accuracy: 0.2641\n",
            "Epoch 2/60\n",
            "225/225 [==============================] - 10s 46ms/step - loss: 1.7861 - accuracy: 0.2784 - val_loss: 1.6347 - val_accuracy: 0.3268\n",
            "Epoch 3/60\n",
            "225/225 [==============================] - 10s 46ms/step - loss: 1.6787 - accuracy: 0.3345 - val_loss: 1.5360 - val_accuracy: 0.3881\n",
            "Epoch 4/60\n",
            "225/225 [==============================] - 10s 46ms/step - loss: 1.5744 - accuracy: 0.3815 - val_loss: 1.4402 - val_accuracy: 0.4202\n",
            "Epoch 5/60\n",
            "225/225 [==============================] - 10s 46ms/step - loss: 1.4869 - accuracy: 0.4194 - val_loss: 1.3884 - val_accuracy: 0.4597\n",
            "Epoch 6/60\n",
            "225/225 [==============================] - 10s 46ms/step - loss: 1.4335 - accuracy: 0.4510 - val_loss: 1.3203 - val_accuracy: 0.4806\n",
            "Epoch 7/60\n",
            "225/225 [==============================] - 10s 46ms/step - loss: 1.3735 - accuracy: 0.4827 - val_loss: 1.2901 - val_accuracy: 0.5088\n",
            "Epoch 8/60\n",
            "225/225 [==============================] - 10s 46ms/step - loss: 1.3343 - accuracy: 0.4980 - val_loss: 1.2448 - val_accuracy: 0.5283\n",
            "Epoch 9/60\n",
            "225/225 [==============================] - 10s 46ms/step - loss: 1.2971 - accuracy: 0.5183 - val_loss: 1.2302 - val_accuracy: 0.5358\n",
            "Epoch 10/60\n",
            "225/225 [==============================] - 10s 46ms/step - loss: 1.2698 - accuracy: 0.5278 - val_loss: 1.2351 - val_accuracy: 0.5252\n",
            "Epoch 11/60\n",
            "225/225 [==============================] - 10s 46ms/step - loss: 1.2469 - accuracy: 0.5381 - val_loss: 1.1940 - val_accuracy: 0.5464\n",
            "Epoch 12/60\n",
            "225/225 [==============================] - 10s 46ms/step - loss: 1.2160 - accuracy: 0.5478 - val_loss: 1.1602 - val_accuracy: 0.5584\n",
            "Epoch 13/60\n",
            "225/225 [==============================] - 10s 46ms/step - loss: 1.1932 - accuracy: 0.5610 - val_loss: 1.1542 - val_accuracy: 0.5626\n",
            "Epoch 14/60\n",
            "225/225 [==============================] - 10s 46ms/step - loss: 1.1751 - accuracy: 0.5690 - val_loss: 1.1557 - val_accuracy: 0.5670\n",
            "Epoch 15/60\n",
            "225/225 [==============================] - 10s 46ms/step - loss: 1.1490 - accuracy: 0.5785 - val_loss: 1.1709 - val_accuracy: 0.5662\n",
            "Epoch 16/60\n",
            "225/225 [==============================] - 10s 46ms/step - loss: 1.1357 - accuracy: 0.5869 - val_loss: 1.1356 - val_accuracy: 0.5801\n",
            "Epoch 17/60\n",
            "225/225 [==============================] - 10s 46ms/step - loss: 1.1082 - accuracy: 0.5961 - val_loss: 1.1086 - val_accuracy: 0.5782\n",
            "Epoch 18/60\n",
            "225/225 [==============================] - 10s 46ms/step - loss: 1.0937 - accuracy: 0.6006 - val_loss: 1.1002 - val_accuracy: 0.5871\n",
            "Epoch 19/60\n",
            "225/225 [==============================] - 10s 46ms/step - loss: 1.0641 - accuracy: 0.6135 - val_loss: 1.0827 - val_accuracy: 0.6066\n",
            "Epoch 20/60\n",
            "225/225 [==============================] - 10s 46ms/step - loss: 1.0473 - accuracy: 0.6171 - val_loss: 1.1086 - val_accuracy: 0.6077\n",
            "Epoch 21/60\n",
            "225/225 [==============================] - 10s 46ms/step - loss: 1.0282 - accuracy: 0.6271 - val_loss: 1.0736 - val_accuracy: 0.6091\n",
            "Epoch 22/60\n",
            "225/225 [==============================] - 10s 46ms/step - loss: 1.0138 - accuracy: 0.6331 - val_loss: 1.0762 - val_accuracy: 0.6102\n",
            "Epoch 23/60\n",
            "225/225 [==============================] - 10s 46ms/step - loss: 0.9865 - accuracy: 0.6417 - val_loss: 1.0590 - val_accuracy: 0.6169\n",
            "Epoch 24/60\n",
            "225/225 [==============================] - 10s 46ms/step - loss: 0.9716 - accuracy: 0.6505 - val_loss: 1.0582 - val_accuracy: 0.6108\n",
            "Epoch 25/60\n",
            "225/225 [==============================] - 10s 46ms/step - loss: 0.9477 - accuracy: 0.6586 - val_loss: 1.0465 - val_accuracy: 0.6208\n",
            "Epoch 26/60\n",
            "225/225 [==============================] - 10s 46ms/step - loss: 0.9346 - accuracy: 0.6645 - val_loss: 1.0531 - val_accuracy: 0.6205\n",
            "Epoch 27/60\n",
            "225/225 [==============================] - 10s 46ms/step - loss: 0.9200 - accuracy: 0.6647 - val_loss: 1.0589 - val_accuracy: 0.6278\n",
            "Epoch 28/60\n",
            "225/225 [==============================] - 10s 46ms/step - loss: 0.8994 - accuracy: 0.6761 - val_loss: 1.0832 - val_accuracy: 0.6149\n",
            "Epoch 29/60\n",
            "225/225 [==============================] - 10s 46ms/step - loss: 0.8806 - accuracy: 0.6822 - val_loss: 1.0365 - val_accuracy: 0.6319\n",
            "Epoch 30/60\n",
            "225/225 [==============================] - 10s 46ms/step - loss: 0.8629 - accuracy: 0.6923 - val_loss: 1.0550 - val_accuracy: 0.6372\n",
            "Epoch 31/60\n",
            "225/225 [==============================] - 10s 46ms/step - loss: 0.8426 - accuracy: 0.6964 - val_loss: 1.0634 - val_accuracy: 0.6272\n",
            "Epoch 32/60\n",
            "225/225 [==============================] - 10s 46ms/step - loss: 0.8310 - accuracy: 0.7013 - val_loss: 1.0576 - val_accuracy: 0.6303\n",
            "Epoch 33/60\n",
            "225/225 [==============================] - 10s 46ms/step - loss: 0.8086 - accuracy: 0.7105 - val_loss: 1.1023 - val_accuracy: 0.6247\n",
            "Epoch 34/60\n",
            "225/225 [==============================] - 10s 46ms/step - loss: 0.7982 - accuracy: 0.7172 - val_loss: 1.0390 - val_accuracy: 0.6417\n",
            "Epoch 35/60\n",
            "225/225 [==============================] - 10s 46ms/step - loss: 0.7786 - accuracy: 0.7247 - val_loss: 1.0535 - val_accuracy: 0.6305\n",
            "Epoch 36/60\n",
            "225/225 [==============================] - 10s 46ms/step - loss: 0.7686 - accuracy: 0.7288 - val_loss: 1.0873 - val_accuracy: 0.6369\n",
            "Epoch 37/60\n",
            "225/225 [==============================] - 10s 46ms/step - loss: 0.7430 - accuracy: 0.7404 - val_loss: 1.0901 - val_accuracy: 0.6392\n",
            "Epoch 38/60\n",
            "225/225 [==============================] - 10s 46ms/step - loss: 0.7267 - accuracy: 0.7445 - val_loss: 1.1027 - val_accuracy: 0.6230\n",
            "Epoch 39/60\n",
            "225/225 [==============================] - 10s 46ms/step - loss: 0.7093 - accuracy: 0.7524 - val_loss: 1.0877 - val_accuracy: 0.6439\n",
            "Epoch 40/60\n",
            "225/225 [==============================] - 10s 46ms/step - loss: 0.6986 - accuracy: 0.7571 - val_loss: 1.1090 - val_accuracy: 0.6342\n",
            "Epoch 41/60\n",
            "225/225 [==============================] - 10s 46ms/step - loss: 0.6851 - accuracy: 0.7601 - val_loss: 1.1208 - val_accuracy: 0.6381\n",
            "Epoch 42/60\n",
            "225/225 [==============================] - 10s 46ms/step - loss: 0.6694 - accuracy: 0.7658 - val_loss: 1.1740 - val_accuracy: 0.6353\n",
            "Epoch 43/60\n",
            "225/225 [==============================] - 10s 46ms/step - loss: 0.6592 - accuracy: 0.7698 - val_loss: 1.1442 - val_accuracy: 0.6344\n",
            "Epoch 44/60\n",
            "225/225 [==============================] - 10s 46ms/step - loss: 0.6392 - accuracy: 0.7790 - val_loss: 1.1233 - val_accuracy: 0.6403\n",
            "Epoch 45/60\n",
            "225/225 [==============================] - 10s 46ms/step - loss: 0.6289 - accuracy: 0.7837 - val_loss: 1.0902 - val_accuracy: 0.6439\n",
            "Epoch 46/60\n",
            "225/225 [==============================] - 10s 46ms/step - loss: 0.6101 - accuracy: 0.7899 - val_loss: 1.1552 - val_accuracy: 0.6422\n",
            "Epoch 47/60\n",
            "225/225 [==============================] - 10s 46ms/step - loss: 0.6026 - accuracy: 0.7912 - val_loss: 1.1554 - val_accuracy: 0.6473\n",
            "Epoch 48/60\n",
            "225/225 [==============================] - 10s 46ms/step - loss: 0.5893 - accuracy: 0.7966 - val_loss: 1.1850 - val_accuracy: 0.6492\n",
            "Epoch 49/60\n",
            "225/225 [==============================] - 10s 46ms/step - loss: 0.5734 - accuracy: 0.8034 - val_loss: 1.2127 - val_accuracy: 0.6375\n",
            "Epoch 50/60\n",
            "225/225 [==============================] - 10s 46ms/step - loss: 0.5705 - accuracy: 0.8050 - val_loss: 1.1255 - val_accuracy: 0.6425\n",
            "Epoch 51/60\n",
            "225/225 [==============================] - 10s 46ms/step - loss: 0.5587 - accuracy: 0.8137 - val_loss: 1.1212 - val_accuracy: 0.6509\n",
            "Epoch 52/60\n",
            "225/225 [==============================] - 10s 46ms/step - loss: 0.5480 - accuracy: 0.8150 - val_loss: 1.1805 - val_accuracy: 0.6514\n",
            "Epoch 53/60\n",
            "225/225 [==============================] - 10s 46ms/step - loss: 0.5339 - accuracy: 0.8175 - val_loss: 1.2131 - val_accuracy: 0.6481\n",
            "Epoch 54/60\n",
            "225/225 [==============================] - 10s 46ms/step - loss: 0.5228 - accuracy: 0.8237 - val_loss: 1.2937 - val_accuracy: 0.6439\n",
            "Epoch 55/60\n",
            "225/225 [==============================] - 10s 46ms/step - loss: 0.5084 - accuracy: 0.8262 - val_loss: 1.2817 - val_accuracy: 0.6537\n",
            "Epoch 56/60\n",
            "225/225 [==============================] - 10s 46ms/step - loss: 0.5051 - accuracy: 0.8305 - val_loss: 1.2236 - val_accuracy: 0.6450\n",
            "Epoch 57/60\n",
            "225/225 [==============================] - 10s 46ms/step - loss: 0.4976 - accuracy: 0.8311 - val_loss: 1.2222 - val_accuracy: 0.6506\n",
            "Epoch 58/60\n",
            "225/225 [==============================] - 10s 46ms/step - loss: 0.4816 - accuracy: 0.8371 - val_loss: 1.1996 - val_accuracy: 0.6467\n",
            "Epoch 59/60\n",
            "225/225 [==============================] - 10s 46ms/step - loss: 0.4756 - accuracy: 0.8402 - val_loss: 1.2433 - val_accuracy: 0.6495\n",
            "Epoch 60/60\n",
            "225/225 [==============================] - 10s 46ms/step - loss: 0.4702 - accuracy: 0.8428 - val_loss: 1.2659 - val_accuracy: 0.6436\n",
            "Epoch 1/60\n",
            "WARNING:tensorflow:Model was constructed with shape (None, 224, 224, 3) for input Tensor(\"input_3:0\", shape=(None, 224, 224, 3), dtype=float32), but it was called on an input with incompatible shape (None, 48, 48, 3).\n",
            "WARNING:tensorflow:Model was constructed with shape (None, 224, 224, 3) for input Tensor(\"input_3:0\", shape=(None, 224, 224, 3), dtype=float32), but it was called on an input with incompatible shape (None, 48, 48, 3).\n",
            "225/225 [==============================] - ETA: 0s - loss: 1.4720 - accuracy: 0.4350WARNING:tensorflow:Model was constructed with shape (None, 224, 224, 3) for input Tensor(\"input_3:0\", shape=(None, 224, 224, 3), dtype=float32), but it was called on an input with incompatible shape (None, 48, 48, 3).\n",
            "225/225 [==============================] - 18s 80ms/step - loss: 1.4720 - accuracy: 0.4350 - val_loss: 1.8206 - val_accuracy: 0.2095\n",
            "Epoch 2/60\n",
            "225/225 [==============================] - 17s 74ms/step - loss: 1.2554 - accuracy: 0.5269 - val_loss: 1.5708 - val_accuracy: 0.4188\n",
            "Epoch 3/60\n",
            "225/225 [==============================] - 17s 74ms/step - loss: 1.1440 - accuracy: 0.5726 - val_loss: 1.9252 - val_accuracy: 0.2965\n",
            "Epoch 4/60\n",
            "225/225 [==============================] - 17s 74ms/step - loss: 1.2745 - accuracy: 0.5120 - val_loss: 1.3657 - val_accuracy: 0.4820\n",
            "Epoch 5/60\n",
            "225/225 [==============================] - 17s 75ms/step - loss: 1.1598 - accuracy: 0.5592 - val_loss: 1.3196 - val_accuracy: 0.5386\n",
            "Epoch 6/60\n",
            "225/225 [==============================] - 17s 75ms/step - loss: 1.0741 - accuracy: 0.5955 - val_loss: 1.2504 - val_accuracy: 0.5294\n",
            "Epoch 7/60\n",
            "225/225 [==============================] - 17s 75ms/step - loss: 0.9708 - accuracy: 0.6349 - val_loss: 1.1830 - val_accuracy: 0.5720\n",
            "Epoch 8/60\n",
            "225/225 [==============================] - 17s 75ms/step - loss: 0.8621 - accuracy: 0.6775 - val_loss: 1.3857 - val_accuracy: 0.5508\n",
            "Epoch 9/60\n",
            "225/225 [==============================] - 17s 74ms/step - loss: 0.8940 - accuracy: 0.6686 - val_loss: 1.4147 - val_accuracy: 0.4795\n",
            "Epoch 10/60\n",
            "225/225 [==============================] - 17s 74ms/step - loss: 0.9513 - accuracy: 0.6434 - val_loss: 1.2776 - val_accuracy: 0.5575\n",
            "Epoch 11/60\n",
            "225/225 [==============================] - 17s 74ms/step - loss: 0.7833 - accuracy: 0.7131 - val_loss: 1.2762 - val_accuracy: 0.5690\n",
            "Epoch 12/60\n",
            "225/225 [==============================] - 17s 74ms/step - loss: 0.5785 - accuracy: 0.7902 - val_loss: 1.3795 - val_accuracy: 0.5520\n",
            "Epoch 13/60\n",
            "225/225 [==============================] - 17s 74ms/step - loss: 0.5600 - accuracy: 0.7957 - val_loss: 1.4137 - val_accuracy: 0.5249\n",
            "Epoch 14/60\n",
            "225/225 [==============================] - 17s 74ms/step - loss: 0.6310 - accuracy: 0.7698 - val_loss: 1.4802 - val_accuracy: 0.5442\n",
            "Epoch 15/60\n",
            "225/225 [==============================] - 17s 74ms/step - loss: 0.5254 - accuracy: 0.8085 - val_loss: 1.6357 - val_accuracy: 0.5818\n",
            "Epoch 16/60\n",
            "225/225 [==============================] - 17s 74ms/step - loss: 0.5790 - accuracy: 0.7896 - val_loss: 1.4570 - val_accuracy: 0.5534\n",
            "Epoch 17/60\n",
            "225/225 [==============================] - 17s 74ms/step - loss: 0.4847 - accuracy: 0.8257 - val_loss: 1.8702 - val_accuracy: 0.5386\n",
            "Epoch 18/60\n",
            "225/225 [==============================] - 17s 74ms/step - loss: 0.4484 - accuracy: 0.8384 - val_loss: 1.7714 - val_accuracy: 0.2563\n",
            "Epoch 19/60\n",
            "225/225 [==============================] - 17s 74ms/step - loss: 0.5883 - accuracy: 0.7852 - val_loss: 1.6794 - val_accuracy: 0.5798\n",
            "Epoch 20/60\n",
            "225/225 [==============================] - 17s 74ms/step - loss: 0.2818 - accuracy: 0.9001 - val_loss: 1.8027 - val_accuracy: 0.5795\n",
            "Epoch 21/60\n",
            "225/225 [==============================] - 17s 74ms/step - loss: 0.1767 - accuracy: 0.9403 - val_loss: 2.2826 - val_accuracy: 0.5681\n",
            "Epoch 22/60\n",
            "225/225 [==============================] - 17s 74ms/step - loss: 0.2162 - accuracy: 0.9252 - val_loss: 2.0604 - val_accuracy: 0.5890\n",
            "Epoch 23/60\n",
            "225/225 [==============================] - 17s 74ms/step - loss: 0.1195 - accuracy: 0.9596 - val_loss: 2.3438 - val_accuracy: 0.5979\n",
            "Epoch 24/60\n",
            "225/225 [==============================] - 17s 74ms/step - loss: 0.0979 - accuracy: 0.9665 - val_loss: 2.4836 - val_accuracy: 0.5726\n",
            "Epoch 25/60\n",
            "225/225 [==============================] - 17s 75ms/step - loss: 0.1028 - accuracy: 0.9664 - val_loss: 2.5378 - val_accuracy: 0.5762\n",
            "Epoch 26/60\n",
            "225/225 [==============================] - 17s 74ms/step - loss: 0.1359 - accuracy: 0.9561 - val_loss: 2.1959 - val_accuracy: 0.5548\n",
            "Epoch 27/60\n",
            "225/225 [==============================] - 17s 75ms/step - loss: 0.2625 - accuracy: 0.9069 - val_loss: 2.1481 - val_accuracy: 0.5091\n",
            "Epoch 28/60\n",
            "225/225 [==============================] - 17s 74ms/step - loss: 0.3909 - accuracy: 0.8615 - val_loss: 1.6712 - val_accuracy: 0.5464\n",
            "Epoch 29/60\n",
            "225/225 [==============================] - 17s 74ms/step - loss: 0.3619 - accuracy: 0.8696 - val_loss: 2.0718 - val_accuracy: 0.5706\n",
            "Epoch 30/60\n",
            "225/225 [==============================] - 17s 75ms/step - loss: 0.1093 - accuracy: 0.9633 - val_loss: 2.4951 - val_accuracy: 0.5843\n",
            "Epoch 31/60\n",
            "225/225 [==============================] - 17s 74ms/step - loss: 0.0784 - accuracy: 0.9748 - val_loss: 2.7620 - val_accuracy: 0.5740\n",
            "Epoch 32/60\n",
            "225/225 [==============================] - 17s 74ms/step - loss: 0.0881 - accuracy: 0.9715 - val_loss: 2.7298 - val_accuracy: 0.5843\n",
            "Epoch 33/60\n",
            "225/225 [==============================] - 17s 74ms/step - loss: 0.0631 - accuracy: 0.9798 - val_loss: 2.9325 - val_accuracy: 0.5834\n",
            "Epoch 34/60\n",
            "225/225 [==============================] - 17s 74ms/step - loss: 0.1087 - accuracy: 0.9645 - val_loss: 2.6431 - val_accuracy: 0.5832\n",
            "Epoch 35/60\n",
            "225/225 [==============================] - 17s 74ms/step - loss: 0.1058 - accuracy: 0.9638 - val_loss: 2.6338 - val_accuracy: 0.4837\n",
            "Epoch 36/60\n",
            "225/225 [==============================] - 17s 74ms/step - loss: 0.2012 - accuracy: 0.9306 - val_loss: 2.6475 - val_accuracy: 0.5478\n",
            "Epoch 37/60\n",
            "225/225 [==============================] - 17s 74ms/step - loss: 0.1443 - accuracy: 0.9512 - val_loss: 2.4156 - val_accuracy: 0.5748\n",
            "Epoch 38/60\n",
            "225/225 [==============================] - 17s 74ms/step - loss: 0.1992 - accuracy: 0.9313 - val_loss: 2.3480 - val_accuracy: 0.5834\n",
            "Epoch 39/60\n",
            "225/225 [==============================] - 17s 74ms/step - loss: 0.2044 - accuracy: 0.9309 - val_loss: 2.4311 - val_accuracy: 0.5821\n",
            "Epoch 40/60\n",
            "225/225 [==============================] - 17s 74ms/step - loss: 0.0686 - accuracy: 0.9785 - val_loss: 2.9547 - val_accuracy: 0.5821\n",
            "Epoch 41/60\n",
            "225/225 [==============================] - 17s 74ms/step - loss: 0.0503 - accuracy: 0.9842 - val_loss: 3.3012 - val_accuracy: 0.5784\n",
            "Epoch 42/60\n",
            "225/225 [==============================] - 17s 74ms/step - loss: 0.0481 - accuracy: 0.9850 - val_loss: 3.0290 - val_accuracy: 0.5876\n",
            "Epoch 43/60\n",
            "225/225 [==============================] - 17s 74ms/step - loss: 0.1136 - accuracy: 0.9620 - val_loss: 2.6556 - val_accuracy: 0.5823\n",
            "Epoch 44/60\n",
            "225/225 [==============================] - 17s 75ms/step - loss: 0.0852 - accuracy: 0.9718 - val_loss: 2.8205 - val_accuracy: 0.5860\n",
            "Epoch 45/60\n",
            "225/225 [==============================] - 17s 74ms/step - loss: 0.0905 - accuracy: 0.9694 - val_loss: 2.8977 - val_accuracy: 0.5514\n",
            "Epoch 46/60\n",
            "225/225 [==============================] - 17s 74ms/step - loss: 0.1158 - accuracy: 0.9620 - val_loss: 2.6320 - val_accuracy: 0.5787\n",
            "Epoch 47/60\n",
            "225/225 [==============================] - 17s 74ms/step - loss: 0.0551 - accuracy: 0.9827 - val_loss: 2.8497 - val_accuracy: 0.5971\n",
            "Epoch 48/60\n",
            "225/225 [==============================] - 17s 74ms/step - loss: 0.0476 - accuracy: 0.9840 - val_loss: 3.1976 - val_accuracy: 0.5782\n",
            "Epoch 49/60\n",
            "225/225 [==============================] - 17s 74ms/step - loss: 0.3145 - accuracy: 0.8934 - val_loss: 2.0842 - val_accuracy: 0.5823\n",
            "Epoch 50/60\n",
            "225/225 [==============================] - 17s 74ms/step - loss: 0.1178 - accuracy: 0.9618 - val_loss: 2.6256 - val_accuracy: 0.5893\n",
            "Epoch 51/60\n",
            "225/225 [==============================] - 17s 74ms/step - loss: 0.1020 - accuracy: 0.9648 - val_loss: 2.6184 - val_accuracy: 0.5717\n",
            "Epoch 52/60\n",
            "225/225 [==============================] - 17s 74ms/step - loss: 0.1067 - accuracy: 0.9645 - val_loss: 2.1796 - val_accuracy: 0.5439\n",
            "Epoch 53/60\n",
            "225/225 [==============================] - 17s 74ms/step - loss: 0.4882 - accuracy: 0.8274 - val_loss: 1.7088 - val_accuracy: 0.5556\n",
            "Epoch 54/60\n",
            "225/225 [==============================] - 17s 74ms/step - loss: 0.2002 - accuracy: 0.9315 - val_loss: 2.3593 - val_accuracy: 0.5740\n",
            "Epoch 55/60\n",
            "225/225 [==============================] - 17s 74ms/step - loss: 0.0605 - accuracy: 0.9804 - val_loss: 2.9819 - val_accuracy: 0.5843\n",
            "Epoch 56/60\n",
            "225/225 [==============================] - 17s 74ms/step - loss: 0.0480 - accuracy: 0.9843 - val_loss: 3.3713 - val_accuracy: 0.5578\n",
            "Epoch 57/60\n",
            "225/225 [==============================] - 17s 74ms/step - loss: 0.1018 - accuracy: 0.9649 - val_loss: 2.9490 - val_accuracy: 0.5848\n",
            "Epoch 58/60\n",
            "225/225 [==============================] - 17s 74ms/step - loss: 0.0962 - accuracy: 0.9672 - val_loss: 2.8232 - val_accuracy: 0.5503\n",
            "Epoch 59/60\n",
            "225/225 [==============================] - 17s 74ms/step - loss: 0.0905 - accuracy: 0.9686 - val_loss: 2.8449 - val_accuracy: 0.5690\n",
            "Epoch 60/60\n",
            "225/225 [==============================] - 17s 74ms/step - loss: 0.0456 - accuracy: 0.9847 - val_loss: 3.6580 - val_accuracy: 0.5787\n"
          ],
          "name": "stdout"
        },
        {
          "output_type": "display_data",
          "data": {
            "image/png": "[encoded data removed]",
            "text/plain": [
              "<Figure size 576x432 with 1 Axes>"
            ]
          },
          "metadata": {
            "tags": [],
            "needs_background": "light"
          }
        },
        {
          "output_type": "display_data",
          "data": {
            "image/png": "[encoded data removed]",
            "text/plain": [
              "<Figure size 576x432 with 1 Axes>"
            ]
          },
          "metadata": {
            "tags": [],
            "needs_background": "light"
          }
        },
        {
          "output_type": "display_data",
          "data": {
            "image/png": "[encoded data removed]",
            "text/plain": [
              "<Figure size 576x432 with 1 Axes>"
            ]
          },
          "metadata": {
            "tags": [],
            "needs_background": "light"
          }
        },
        {
          "output_type": "display_data",
          "data": {
            "image/png": "[encoded data removed]",
            "text/plain": [
              "<Figure size 576x432 with 1 Axes>"
            ]
          },
          "metadata": {
            "tags": [],
            "needs_background": "light"
          }
        },
        {
          "output_type": "display_data",
          "data": {
            "image/png": "[encoded data removed]",
            "text/plain": [
              "<Figure size 576x432 with 1 Axes>"
            ]
          },
          "metadata": {
            "tags": [],
            "needs_background": "light"
          }
        },
        {
          "output_type": "display_data",
          "data": {
            "image/png": "[encoded data removed]",
            "text/plain": [
              "<Figure size 576x432 with 1 Axes>"
            ]
          },
          "metadata": {
            "tags": [],
            "needs_background": "light"
          }
        },
        {
          "output_type": "display_data",
          "data": {
            "image/png": "[encoded data removed]",
            "text/plain": [
              "<Figure size 576x432 with 1 Axes>"
            ]
          },
          "metadata": {
            "tags": [],
            "needs_background": "light"
          }
        },
        {
          "output_type": "display_data",
          "data": {
            "image/png": "[encoded data removed]",
            "text/plain": [
              "<Figure size 576x432 with 1 Axes>"
            ]
          },
          "metadata": {
            "tags": [],
            "needs_background": "light"
          }
        },
        {
          "output_type": "display_data",
          "data": {
            "image/png": "[encoded data removed]",
            "text/plain": [
              "<Figure size 576x432 with 1 Axes>"
            ]
          },
          "metadata": {
            "tags": [],
            "needs_background": "light"
          }
        },
        {
          "output_type": "display_data",
          "data": {
            "image/png": "[encoded data removed]",
            "text/plain": [
              "<Figure size 576x432 with 1 Axes>"
            ]
          },
          "metadata": {
            "tags": [],
            "needs_background": "light"
          }
        }
      ]
    },
    {
      "cell_type": "markdown",
      "metadata": {
        "id": "VPul21Rx4pvn",
        "colab_type": "text"
      },
      "source": [
        "Load Saved Models :"
      ]
    },
    {
      "cell_type": "code",
      "metadata": {
        "id": "YBqQXuSdhbbC",
        "colab_type": "code",
        "outputId": "5a93b8a7-de41-4039-866d-4da40dd419ab",
        "colab": {
          "base_uri": "https://localhost:8080/",
          "height": 343
        }
      },
      "source": [
        "models = []\n",
        "val_acc = []\n",
        "test_acc = []\n",
        "for i in range(5):\n",
        "  model = tf.keras.models.load_model(os.path.join(\"saved_model/2020-04-24_07-41-16\",\n",
        "                                                  'model_{}.h5'.format(i)))\n",
        "  models.append(model)\n",
        "  acc = model.evaluate(val_x,val_y)[1]\n",
        "  print(acc)\n",
        "\n",
        "  val_acc.append(acc)\n",
        "  test_acc.append(model.evaluate(test_set_x, test_set_y)[1])"
      ],
      "execution_count": 0,
      "outputs": [
        {
          "output_type": "stream",
          "text": [
            "113/113 [==============================] - 1s 5ms/step - loss: 1.3192 - accuracy: 0.5060\n",
            "0.5059905052185059\n",
            "113/113 [==============================] - 1s 5ms/step - loss: 1.3173 - accuracy: 0.5038\n",
            "113/113 [==============================] - 0s 4ms/step - loss: 1.3569 - accuracy: 0.4823\n",
            "0.4823070466518402\n",
            "113/113 [==============================] - 0s 4ms/step - loss: 1.3559 - accuracy: 0.4784\n",
            "113/113 [==============================] - 1s 6ms/step - loss: 1.4636 - accuracy: 0.6280\n",
            "0.6280301213264465\n",
            "113/113 [==============================] - 1s 5ms/step - loss: 1.4224 - accuracy: 0.6467\n",
            "113/113 [==============================] - 1s 11ms/step - loss: 1.8576 - accuracy: 0.6537\n",
            "0.6536639928817749\n",
            "113/113 [==============================] - 1s 11ms/step - loss: 1.7196 - accuracy: 0.6576\n",
            "WARNING:tensorflow:Model was constructed with shape (None, 224, 224, 3) for input Tensor(\"input_1:0\", shape=(None, 224, 224, 3), dtype=float32), but it was called on an input with incompatible shape (None, 48, 48, 3).\n",
            "WARNING:tensorflow:Model was constructed with shape (None, 224, 224, 3) for input Tensor(\"input_1:0\", shape=(None, 224, 224, 3), dtype=float32), but it was called on an input with incompatible shape (None, 48, 48, 3).\n",
            "WARNING:tensorflow:Model was constructed with shape (None, 224, 224, 3) for input Tensor(\"input_1:0\", shape=(None, 224, 224, 3), dtype=float32), but it was called on an input with incompatible shape (None, 48, 48, 3).\n",
            "113/113 [==============================] - 2s 21ms/step - loss: 2.9920 - accuracy: 0.5974\n",
            "0.5973808765411377\n",
            "113/113 [==============================] - 2s 19ms/step - loss: 2.8613 - accuracy: 0.6049\n"
          ],
          "name": "stdout"
        }
      ]
    },
    {
      "cell_type": "code",
      "metadata": {
        "trusted": true,
        "_uuid": "2b6fb41e9cc272eecab5b9a2c3394ef1aeb3ad09",
        "id": "FCYKmHT0pAAw",
        "colab_type": "code",
        "colab": {}
      },
      "source": [
        "def ensemble_voting(models, test_set_x):\n",
        "  labels = []\n",
        "  for m in models:\n",
        "      predicts = np.argmax(m.predict(test_set_x), axis=1)\n",
        "      print(predicts)\n",
        "      labels.append(predicts)\n",
        "  # Ensemble with voting\n",
        "  labels = np.array(labels)\n",
        "  labels = np.transpose(labels, (1, 0))\n",
        "  labels = scipy.stats.mode(labels, axis=1)[0]\n",
        "  labels = np.squeeze(labels)\n",
        "\n",
        "  return labels"
      ],
      "execution_count": 0,
      "outputs": []
    },
    {
      "cell_type": "code",
      "metadata": {
        "id": "q5vQ4K09he_N",
        "colab_type": "code",
        "colab": {}
      },
      "source": [
        "def ensemble_average(members, testX):\n",
        "\t# make predictions\n",
        "\tyhats = [model.predict(testX) for model in members]\n",
        "\tyhats = np.array(yhats)\n",
        "\tprint(yhats)\n",
        "\t# sum across ensemble members\n",
        "\tsummed = np.sum(yhats, axis=0)\n",
        "\t# argmax across classes\n",
        "\tresult = np.argmax(summed, axis=1)\n",
        "\treturn result"
      ],
      "execution_count": 0,
      "outputs": []
    },
    {
      "cell_type": "code",
      "metadata": {
        "id": "CkGEYIHCyZ17",
        "colab_type": "code",
        "colab": {}
      },
      "source": [
        "def ensemble_weighted_average(members, weights, testX):\n",
        "\t# make predictions\n",
        "\tyhats = [model.predict(testX) for model in members]\n",
        "\tyhats = np.array(yhats)\n",
        "\t# weighted sum across ensemble members\n",
        "\tsummed = np.tensordot(yhats, weights, axes=((0),(0)))\n",
        "\t# argmax across classes\n",
        "\tresult = np.argmax(summed, axis=1)\n",
        "\treturn result"
      ],
      "execution_count": 0,
      "outputs": []
    },
    {
      "cell_type": "code",
      "metadata": {
        "id": "nK_qk6UmCB8h",
        "colab_type": "code",
        "colab": {}
      },
      "source": [
        "def ensemble_weighted_average(yhats, weights):\n",
        "\t# make predictions\n",
        "\tyhats = np.array(yhats)\n",
        "\t# weighted sum across ensemble members\n",
        "\tsummed = np.tensordot(yhats, weights, axes=((0),(0)))\n",
        "\t# argmax across classes\n",
        "\tresult = np.argmax(summed, axis=1)\n",
        "\treturn result"
      ],
      "execution_count": 0,
      "outputs": []
    },
    {
      "cell_type": "code",
      "metadata": {
        "id": "Za0YfJ0xCJ1M",
        "colab_type": "code",
        "colab": {}
      },
      "source": [
        "yhats = []\n",
        "yhats.append(model_1.predict([test_set_x, test_x_hog]))\n",
        "yhats.append(model_2.predict(test_set_x))"
      ],
      "execution_count": 0,
      "outputs": []
    },
    {
      "cell_type": "code",
      "metadata": {
        "id": "izHYs7GUCfd6",
        "colab_type": "code",
        "colab": {}
      },
      "source": [
        "weight_test = []\n",
        "weight_test.append(test_1)\n",
        "weight_test.append(test_2)\n",
        "\n",
        "weight_val = []\n",
        "weight_val.append(val_1)\n",
        "weight_val.append(val_2)"
      ],
      "execution_count": 0,
      "outputs": []
    },
    {
      "cell_type": "code",
      "metadata": {
        "id": "A35D2agxB8g3",
        "colab_type": "code",
        "colab": {}
      },
      "source": [
        "labels = ensemble_weighted_average(yhats, weight_test)\n",
        "labels_2 = ensemble_weighted_average(yhats, weight_val)"
      ],
      "execution_count": 0,
      "outputs": []
    },
    {
      "cell_type": "code",
      "metadata": {
        "id": "VVcQd4rh5PCL",
        "colab_type": "code",
        "outputId": "761ec52d-d46f-4378-93d6-0898fa6c305a",
        "colab": {
          "base_uri": "https://localhost:8080/",
          "height": 139
        }
      },
      "source": [
        "labels = ensemble_voting(models, test_set_x)"
      ],
      "execution_count": 0,
      "outputs": [
        {
          "output_type": "stream",
          "text": [
            "[1 4 6 ... 6 0 4]\n",
            "[0 4 4 ... 4 0 4]\n",
            "[2 0 2 ... 6 4 2]\n",
            "[0 6 2 ... 6 3 2]\n",
            "WARNING:tensorflow:Model was constructed with shape (None, 224, 224, 3) for input Tensor(\"input_1:0\", shape=(None, 224, 224, 3), dtype=float32), but it was called on an input with incompatible shape (None, 48, 48, 3).\n",
            "[0 3 6 ... 4 3 2]\n"
          ],
          "name": "stdout"
        }
      ]
    },
    {
      "cell_type": "code",
      "metadata": {
        "id": "LeHmZzDIhqD4",
        "colab_type": "code",
        "outputId": "a9ed09b5-ff14-4a21-c72e-7a9eb4071f71",
        "colab": {
          "base_uri": "https://localhost:8080/",
          "height": 1000
        }
      },
      "source": [
        "labels_average = ensemble_average(models, test_set_x)"
      ],
      "execution_count": 0,
      "outputs": [
        {
          "output_type": "stream",
          "text": [
            "[[[1.80986062e-01 2.54715234e-01 1.10479772e-01 ... 1.72902584e-01\n",
            "   7.85761476e-02 1.79165766e-01]\n",
            "  [1.06634468e-01 2.19109152e-02 1.24950655e-01 ... 3.56309414e-01\n",
            "   6.95126653e-02 2.03656763e-01]\n",
            "  [2.04623684e-01 1.02944927e-04 2.09558457e-01 ... 1.70221314e-01\n",
            "   2.41317060e-02 2.53913790e-01]\n",
            "  ...\n",
            "  [6.66413829e-02 4.30373009e-03 3.69193405e-02 ... 1.18974268e-01\n",
            "   5.92907146e-03 6.62556052e-01]\n",
            "  [3.06250811e-01 1.78050883e-02 4.37890589e-02 ... 2.61416346e-01\n",
            "   1.26477890e-02 1.93057358e-01]\n",
            "  [1.13261625e-01 3.75306122e-02 1.31595805e-01 ... 4.24925506e-01\n",
            "   2.10742895e-02 2.19766498e-01]]\n",
            "\n",
            " [[3.57669592e-01 1.35650337e-01 2.01462507e-01 ... 1.28294989e-01\n",
            "   4.79120314e-02 1.02169037e-01]\n",
            "  [1.48931339e-01 1.35800391e-02 2.56032139e-01 ... 3.23524624e-01\n",
            "   7.38076046e-02 7.98134059e-02]\n",
            "  [9.17630643e-02 7.35239373e-05 1.74300611e-01 ... 3.32229048e-01\n",
            "   4.22857814e-02 1.71701491e-01]\n",
            "  ...\n",
            "  [5.76994270e-02 6.86312385e-04 9.07691941e-02 ... 4.77658540e-01\n",
            "   9.78271570e-03 2.67257333e-01]\n",
            "  [4.37703848e-01 2.35810573e-03 9.59956199e-02 ... 1.83779940e-01\n",
            "   2.20163297e-02 7.49824569e-02]\n",
            "  [1.32379636e-01 2.01057387e-03 3.46458673e-01 ... 4.53506798e-01\n",
            "   5.42382291e-03 4.63925898e-02]]\n",
            "\n",
            " [[1.83142141e-01 2.29749277e-01 5.53893030e-01 ... 3.31809670e-02\n",
            "   4.09778386e-06 3.04146033e-05]\n",
            "  [6.46596074e-01 2.80134846e-04 3.01676411e-02 ... 9.90997106e-02\n",
            "   2.26747319e-02 7.62884542e-02]\n",
            "  [8.15804228e-02 1.11041663e-06 8.88662338e-01 ... 2.76917014e-02\n",
            "   2.14118154e-05 1.94161013e-03]\n",
            "  ...\n",
            "  [5.37951244e-03 6.60264996e-05 4.17124107e-03 ... 1.21052349e-02\n",
            "   9.85751161e-04 9.76756454e-01]\n",
            "  [7.52111971e-02 2.01710514e-04 1.12365326e-02 ... 7.27754593e-01\n",
            "   5.39172965e-04 4.77651544e-02]\n",
            "  [5.35999890e-03 1.32614936e-04 8.64197075e-01 ... 1.28013447e-01\n",
            "   5.87114191e-05 2.23547220e-03]]\n",
            "\n",
            " [[5.95298886e-01 3.67513439e-03 4.04413082e-02 ... 3.12590212e-01\n",
            "   4.61353688e-03 2.92515121e-02]\n",
            "  [1.08963899e-01 7.12675683e-04 3.08475606e-02 ... 6.53706789e-02\n",
            "   2.66108313e-03 7.36248255e-01]\n",
            "  [4.38561337e-03 1.17126910e-05 9.75395739e-01 ... 1.24611836e-02\n",
            "   1.22704240e-03 6.21584943e-03]\n",
            "  ...\n",
            "  [2.92880833e-03 1.04283060e-06 8.48733261e-03 ... 7.39617413e-03\n",
            "   3.37398851e-05 9.80487406e-01]\n",
            "  [9.99018201e-04 1.79978520e-06 2.96057179e-03 ... 9.26034898e-03\n",
            "   2.44462839e-03 1.43466368e-02]\n",
            "  [6.43544411e-03 1.18580028e-04 8.88508976e-01 ... 1.02599278e-01\n",
            "   5.48887707e-04 1.70889241e-03]]\n",
            "\n",
            " [[9.97995973e-01 1.51979089e-06 2.15501093e-08 ... 1.99447037e-03\n",
            "   8.97591956e-09 7.00785949e-06]\n",
            "  [1.33776894e-05 2.95726721e-07 1.89583589e-05 ... 5.05885445e-02\n",
            "   1.05430707e-04 1.54683099e-03]\n",
            "  [6.99465818e-05 6.27809641e-07 2.25916647e-05 ... 4.78472654e-03\n",
            "   2.56100866e-05 9.94861305e-01]\n",
            "  ...\n",
            "  [2.47271855e-05 1.14261404e-07 2.67984524e-06 ... 9.97827470e-01\n",
            "   1.80977395e-06 2.10331450e-03]\n",
            "  [8.75224650e-05 2.93840856e-07 5.01674003e-05 ... 2.43745919e-04\n",
            "   3.62287159e-04 1.37385097e-04]\n",
            "  [2.79066148e-06 7.69743053e-07 9.28659379e-01 ... 7.11840242e-02\n",
            "   1.66291295e-06 1.41428987e-04]]]\n"
          ],
          "name": "stdout"
        }
      ]
    },
    {
      "cell_type": "code",
      "metadata": {
        "id": "Ta65gBEr0IlW",
        "colab_type": "code",
        "colab": {}
      },
      "source": [
        "labels_w_average = ensemble_weighted_average(models, val_acc, test_set_x)"
      ],
      "execution_count": 0,
      "outputs": []
    },
    {
      "cell_type": "code",
      "metadata": {
        "id": "6So9aSbj2LJt",
        "colab_type": "code",
        "colab": {}
      },
      "source": [
        "labels_w_average_test = ensemble_weighted_average(models, test_acc, test_set_x)"
      ],
      "execution_count": 0,
      "outputs": []
    },
    {
      "cell_type": "code",
      "metadata": {
        "id": "VZL-4JVQLUT8",
        "colab_type": "code",
        "colab": {}
      },
      "source": [
        "rounded_labels=np.argmax(test_set_y, axis=1)"
      ],
      "execution_count": 0,
      "outputs": []
    },
    {
      "cell_type": "code",
      "metadata": {
        "colab_type": "code",
        "outputId": "bec4ca71-a638-48d5-983f-2b5c676f77c2",
        "id": "y2Rj2nBI2Mgi",
        "colab": {
          "base_uri": "https://localhost:8080/",
          "height": 34
        }
      },
      "source": [
        "from sklearn.metrics import accuracy_score\n",
        "test_accuracy_score = accuracy_score(rounded_labels, labels_w_average_test)\n",
        "print(test_accuracy_score)"
      ],
      "execution_count": 0,
      "outputs": [
        {
          "output_type": "stream",
          "text": [
            "0.6740039008080245\n"
          ],
          "name": "stdout"
        }
      ]
    },
    {
      "cell_type": "code",
      "metadata": {
        "colab_type": "code",
        "outputId": "1ccb45c7-396a-4a1c-c132-d4bbb3b3c8c2",
        "id": "mTrc3QXO1XKn",
        "colab": {
          "base_uri": "https://localhost:8080/",
          "height": 34
        }
      },
      "source": [
        "from sklearn.metrics import accuracy_score\n",
        "test_accuracy_score = accuracy_score(rounded_labels, labels_w_average)\n",
        "print(test_accuracy_score)"
      ],
      "execution_count": 0,
      "outputs": [
        {
          "output_type": "stream",
          "text": [
            "0.6740039008080245\n"
          ],
          "name": "stdout"
        }
      ]
    },
    {
      "cell_type": "code",
      "metadata": {
        "id": "oe_HEzXFtANn",
        "colab_type": "code",
        "outputId": "894004b1-d7ac-4442-a67a-32b843f1372d",
        "colab": {
          "base_uri": "https://localhost:8080/",
          "height": 34
        }
      },
      "source": [
        "from sklearn.metrics import accuracy_score\n",
        "test_accuracy_score = accuracy_score(rounded_labels, labels_average)\n",
        "print(test_accuracy_score)"
      ],
      "execution_count": 0,
      "outputs": [
        {
          "output_type": "stream",
          "text": [
            "0.6695458344942881\n"
          ],
          "name": "stdout"
        }
      ]
    },
    {
      "cell_type": "code",
      "metadata": {
        "id": "5W0dDA5zwi3v",
        "colab_type": "code",
        "outputId": "2a55c55e-e497-4867-d901-0f1ccb401e3d",
        "colab": {
          "base_uri": "https://localhost:8080/",
          "height": 34
        }
      },
      "source": [
        "from sklearn.metrics import accuracy_score\n",
        "test_accuracy_score = accuracy_score(rounded_labels, labels)\n",
        "print(test_accuracy_score)"
      ],
      "execution_count": 0,
      "outputs": [
        {
          "output_type": "stream",
          "text": [
            "0.6469768737809974\n"
          ],
          "name": "stdout"
        }
      ]
    }
  ]
}